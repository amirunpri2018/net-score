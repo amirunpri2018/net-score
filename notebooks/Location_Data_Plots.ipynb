{
 "metadata": {
  "name": ""
 },
 "nbformat": 3,
 "nbformat_minor": 0,
 "worksheets": [
  {
   "cells": [
    {
     "cell_type": "code",
     "collapsed": false,
     "input": [
      "%matplotlib inline\n",
      "\n",
      "import numpy as np\n",
      "import pylab\n",
      "import operator"
     ],
     "language": "python",
     "metadata": {},
     "outputs": [],
     "prompt_number": 9
    },
    {
     "cell_type": "code",
     "collapsed": false,
     "input": [
      "gae_data = np.loadtxt('../data/gae_data/01/td_asn_1388534400-1388620800.csv', dtype='string', delimiter=',')\n",
      "print 'GAE data shape: ', gae_data.shape\n",
      "\n",
      "fields = gae_data[0,:]\n",
      "#print fields"
     ],
     "language": "python",
     "metadata": {},
     "outputs": [
      {
       "output_type": "stream",
       "stream": "stdout",
       "text": [
        "GAE data shape:  (322, 103)\n"
       ]
      }
     ],
     "prompt_number": 39
    },
    {
     "cell_type": "code",
     "collapsed": false,
     "input": [
      "#x = np.array([(1.0, 2), (3.0, 4)], dtype=[('x', float), ('y', int)])\n",
      "asnNums = gae_data[1:,3]\n",
      "\n",
      "asnDict = {}\n",
      "for asnNum in asnNums:\n",
      "    if asnNum not in asnDict:\n",
      "        asnDict[asnNum] = 1\n",
      "    else:\n",
      "        asnDict[asnNum] = asnDict[asnNum] + 1"
     ],
     "language": "python",
     "metadata": {},
     "outputs": [],
     "prompt_number": 27
    },
    {
     "cell_type": "code",
     "collapsed": false,
     "input": [
      "import operator\n",
      "sortedASNs = sorted(asnDict.items(), key=operator.itemgetter(1), reverse=True)"
     ],
     "language": "python",
     "metadata": {},
     "outputs": [],
     "prompt_number": 28
    },
    {
     "cell_type": "code",
     "collapsed": false,
     "input": [
      "print sortedASNs"
     ],
     "language": "python",
     "metadata": {},
     "outputs": [
      {
       "output_type": "stream",
       "stream": "stdout",
       "text": [
        "[('7018', 36), ('6181', 18), ('11426', 17), ('701', 14), ('5483', 10), ('22773', 9), ('11067', 9), ('209', 9), ('6128', 8), ('10796', 8), ('22759', 8), ('38484', 7), ('20115', 7), ('22394', 7), ('33588', 6), ('3320', 5), ('12271', 5), ('6389', 5), ('174', 5), ('4804', 5), ('1221', 4), ('11351', 4), ('6830', 4), ('7015', 4), ('30036', 4), ('27364', 3), ('12438', 3), ('6939', 3), ('11427', 3), ('7922', 3), ('12015', 3), ('33490', 2), ('33491', 2), ('9658', 2), ('29737', 2), ('33650', 2), ('33657', 2), ('13977', 2), ('3292', 2), ('33668', 2), ('24940', 2), ('5650', 2), ('19108', 2), ('9105', 2), ('3737', 2), ('852', 2), ('9443', 2), ('4802', 2), ('31343', 1), ('13367', 1), ('6327', 1), ('41373', 1), ('5384', 1), ('17858', 1), ('32867', 1), ('7725', 1), ('13855', 1), ('4323', 1), ('6147', 1), ('14618', 1), ('5603', 1), ('12715', 1), ('7132', 1), ('20214', 1), ('13614', 1), ('20057', 1), ('15024', 1), ('6517', 1), ('1257', 1), ('14905', 1), ('3269', 1), ('7029', 1), ('17974', 1), ('6079', 1), ('9121', 1), ('577', 1), ('4436', 1), ('14654', 1), ('855', 1), ('28548', 1), ('7155', 1), ('8612', 1), ('6367', 1), ('9506', 1), ('4775', 1), ('4771', 1), ('13184', 1), ('6407', 1), ('2516', 1), ('33660', 1), ('35807', 1), ('15146', 1), ('16586', 1), ('46687', 1), ('12112', 1), ('18712', 1), ('3352', 1), ('11492', 1), ('34384', 1)]\n"
       ]
      }
     ],
     "prompt_number": 29
    },
    {
     "cell_type": "code",
     "collapsed": false,
     "input": [
      "xs = []\n",
      "ys = []\n",
      "\n",
      "for x,y in sortedASNs:\n",
      "    xs.append(float(x))\n",
      "    ys.append(y)"
     ],
     "language": "python",
     "metadata": {},
     "outputs": [],
     "prompt_number": 30
    },
    {
     "cell_type": "markdown",
     "metadata": {},
     "source": [
      "###Location Data: Num users by ASN number\n",
      "Below is a plot of the number of users by their ASN number. X axis labels are not accurate, but key value pairs are stored in the asnDict dictionary structure."
     ]
    },
    {
     "cell_type": "code",
     "collapsed": false,
     "input": [
      "pylab.plot(ys)\n",
      "\n",
      "pylab.title('Number of Users by ASN number')\n",
      "pylab.ylabel('Number of Users')\n",
      "pylab.xlabel('ASN number')"
     ],
     "language": "python",
     "metadata": {},
     "outputs": [
      {
       "metadata": {},
       "output_type": "pyout",
       "prompt_number": 31,
       "text": [
        "<matplotlib.text.Text at 0x105c93890>"
       ]
      },
      {
       "metadata": {},
       "output_type": "display_data",
       "png": "[encoded data removed]",
       "text": [
        "<matplotlib.figure.Figure at 0x100771a50>"
       ]
      }
     ],
     "prompt_number": 31
    },
    {
     "cell_type": "code",
     "collapsed": false,
     "input": [
      "loc_gae_data = np.loadtxt('../data/gae_data/01/tr_loc_1388534400-1388620800.csv', dtype='string', delimiter=',')\n",
      "print 'GAE data shape: ', gae_data.shape\n",
      "\n",
      "fields = loc_gae_data[0,:]\n",
      "print fields"
     ],
     "language": "python",
     "metadata": {},
     "outputs": [
      {
       "output_type": "stream",
       "stream": "stdout",
       "text": [
        "GAE data shape:  (322, 103)\n",
        "['Key' 'RemoteAddr' 'GetTime' 'PostTime' 'UserID' 'Country' 'Region' 'City'\n",
        " 'Latitude' 'Longitude' 'DevKey' 'TestForm' 'AppVersionID' 'RequestID'\n",
        " 'TestError' 'TestDataKey' '\"\"']\n"
       ]
      }
     ],
     "prompt_number": 5
    },
    {
     "cell_type": "code",
     "collapsed": false,
     "input": [
      "asn_cities = loc_gae_data[:,7]\n",
      "\n",
      "city_dict = {}\n",
      "for entry in asn_cities:\n",
      "    if entry not in city_dict:\n",
      "        city_dict[entry] = 1\n",
      "    else:\n",
      "        city_dict[entry] = city_dict[entry] + 1"
     ],
     "language": "python",
     "metadata": {},
     "outputs": [],
     "prompt_number": 22
    },
    {
     "cell_type": "code",
     "collapsed": false,
     "input": [
      "#print city_dict\n",
      "\n",
      "sortedCities = sorted(city_dict.items(), key=operator.itemgetter(1), reverse=True)\n",
      "\n",
      "#print sortedCities"
     ],
     "language": "python",
     "metadata": {},
     "outputs": [],
     "prompt_number": 38
    },
    {
     "cell_type": "code",
     "collapsed": false,
     "input": [
      "xs = []\n",
      "ys = []\n",
      "\n",
      "for x,y in sortedCities:\n",
      "    xs.append(x)\n",
      "    ys.append(y)"
     ],
     "language": "python",
     "metadata": {},
     "outputs": [],
     "prompt_number": 25
    },
    {
     "cell_type": "markdown",
     "metadata": {},
     "source": [
      "###Location Data: Num of users by City\n",
      "The plot shown below is a plot of the number of users and their city. Data is collected by pulling from the \"City\" column of the location data, then counted and sorted."
     ]
    },
    {
     "cell_type": "code",
     "collapsed": false,
     "input": [
      "pylab.plot(ys)\n",
      "pylab.title('Number of Users by City')\n",
      "pylab.ylabel('Number of Users')\n",
      "pylab.xlabel('City')"
     ],
     "language": "python",
     "metadata": {},
     "outputs": [
      {
       "metadata": {},
       "output_type": "pyout",
       "prompt_number": 37,
       "text": [
        "<matplotlib.text.Text at 0x106ab6c10>"
       ]
      },
      {
       "metadata": {},
       "output_type": "display_data",
       "png": "[encoded data removed]",
       "text": [
        "<matplotlib.figure.Figure at 0x107ac5890>"
       ]
      }
     ],
     "prompt_number": 37
    },
    {
     "cell_type": "code",
     "collapsed": false,
     "input": [],
     "language": "python",
     "metadata": {},
     "outputs": []
    }
   ],
   "metadata": {}
  }
 ]
}