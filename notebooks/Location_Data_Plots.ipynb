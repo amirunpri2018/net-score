{
 "metadata": {
  "name": ""
 },
 "nbformat": 3,
 "nbformat_minor": 0,
 "worksheets": [
  {
   "cells": [
    {
     "cell_type": "markdown",
     "metadata": {},
     "source": [
      "#Location Data\n",
      "The code and plots below reflect a sample of the location data collected between Jan. 2014 and Aug. 2014. I am currently working on displaying the x-axis with more clear labels of the locations plotted. I also want to explore displaying only the more interesting locations (>1 or >5) data points."
     ]
    },
    {
     "cell_type": "code",
     "collapsed": false,
     "input": [
      "%matplotlib inline\n",
      "\n",
      "import numpy as np\n",
      "import pylab\n",
      "import os\n",
      "import operator"
     ],
     "language": "python",
     "metadata": {},
     "outputs": [],
     "prompt_number": 16
    },
    {
     "cell_type": "code",
     "collapsed": false,
     "input": [
      "raw_gae_data = '../data/gae_data/asn/master_2014_asn.csv'\n",
      "#print 'Raw GAE data shape: ', len(raw_gae_data)\n",
      "asn_data = np.loadtxt(raw_gae_data, dtype='string', delimiter=',')\n",
      "print asn_data.shape"
     ],
     "language": "python",
     "metadata": {},
     "outputs": [
      {
       "output_type": "stream",
       "stream": "stdout",
       "text": [
        "(143780, 103)\n"
       ]
      }
     ],
     "prompt_number": 18
    },
    {
     "cell_type": "code",
     "collapsed": false,
     "input": [
      "#x = np.array([(1.0, 2), (3.0, 4)], dtype=[('x', float), ('y', int)])\n",
      "asnNums = asn_data[1:,3]\n",
      "\n",
      "asnDict = {}\n",
      "for asnNum in asnNums:\n",
      "    if asnNum not in asnDict:\n",
      "        asnDict[asnNum] = 1\n",
      "    else:\n",
      "        asnDict[asnNum] = asnDict[asnNum] + 1"
     ],
     "language": "python",
     "metadata": {},
     "outputs": [],
     "prompt_number": 20
    },
    {
     "cell_type": "code",
     "collapsed": false,
     "input": [
      "sortedASNs = sorted(asnDict.items(), key=operator.itemgetter(1), reverse=True)"
     ],
     "language": "python",
     "metadata": {},
     "outputs": [],
     "prompt_number": 21
    },
    {
     "cell_type": "code",
     "collapsed": false,
     "input": [
      "#print sortedASNs\n",
      "\n",
      "px = {}\n",
      "for asnNum, num in sortedASNs:\n",
      "    if num not in px:\n",
      "        px[num] = 1\n",
      "    else:\n",
      "        px[num] = px[num] + 1"
     ],
     "language": "python",
     "metadata": {},
     "outputs": [],
     "prompt_number": 22
    },
    {
     "cell_type": "code",
     "collapsed": false,
     "input": [
      "xs = []\n",
      "ys = []\n",
      "\n",
      "for x,y in sortedASNs:\n",
      "    xs.append(x)\n",
      "    ys.append(y)"
     ],
     "language": "python",
     "metadata": {},
     "outputs": [],
     "prompt_number": 24
    },
    {
     "cell_type": "markdown",
     "metadata": {},
     "source": [
      "###Location Data: Num users by ASN number\n",
      "Below is a plot of the number of users by their ASN number. X axis labels are not accurate, but key value pairs are stored in the asnDict dictionary structure."
     ]
    },
    {
     "cell_type": "code",
     "collapsed": false,
     "input": [
      "pylab.plot(ys)\n",
      "\n",
      "pylab.title('Number of Users by ASN number')\n",
      "pylab.ylabel('Number of Users')\n",
      "pylab.xlabel('ASN number')"
     ],
     "language": "python",
     "metadata": {},
     "outputs": [
      {
       "metadata": {},
       "output_type": "pyout",
       "prompt_number": 26,
       "text": [
        "<matplotlib.text.Text at 0x1251d8150>"
       ]
      },
      {
       "metadata": {},
       "output_type": "display_data",
       "png": "[encoded data removed]",
       "text": [
        "<matplotlib.figure.Figure at 0x3f3156910>"
       ]
      }
     ],
     "prompt_number": 26
    },
    {
     "cell_type": "code",
     "collapsed": false,
     "input": [
      "loc_gae_data = np.loadtxt('../data/gae_data/loc/master_2014_loc.csv', dtype='string', delimiter=',')\n",
      "\n",
      "fields = loc_gae_data[0,:]\n",
      "print fields"
     ],
     "language": "python",
     "metadata": {},
     "outputs": [
      {
       "output_type": "stream",
       "stream": "stdout",
       "text": [
        " ['Key' 'RemoteAddr' 'GetTime' 'PostTime' 'UserID' 'Country' 'Region' 'City'\n",
        " 'Latitude' 'Longitude' 'DevKey' 'TestForm' 'AppVersionID' 'RequestID'\n",
        " 'TestError' 'TestDataKey' '\"\"']\n"
       ]
      }
     ],
     "prompt_number": 5
    },
    {
     "cell_type": "code",
     "collapsed": false,
     "input": [
      "print loc_gae_data.shape"
     ],
     "language": "python",
     "metadata": {},
     "outputs": [
      {
       "output_type": "stream",
       "stream": "stdout",
       "text": [
        "(421961, 17)\n"
       ]
      }
     ],
     "prompt_number": 6
    },
    {
     "cell_type": "code",
     "collapsed": false,
     "input": [
      "asn_cities = loc_gae_data[:,7]\n",
      "\n",
      "city_dict = {}\n",
      "for entry in asn_cities:\n",
      "    if entry not in city_dict and entry is not \"City\":\n",
      "        city_dict[entry] = 1\n",
      "    else:\n",
      "        city_dict[entry] = city_dict[entry] + 1\n",
      "    "
     ],
     "language": "python",
     "metadata": {},
     "outputs": [],
     "prompt_number": 12
    },
    {
     "cell_type": "code",
     "collapsed": false,
     "input": [
      "#print city_dict\n",
      "\n",
      "sortedCities = sorted(city_dict.items(), key=operator.itemgetter(1), reverse=True)\n",
      "\n",
      "#print sortedCities"
     ],
     "language": "python",
     "metadata": {},
     "outputs": [],
     "prompt_number": 13
    },
    {
     "cell_type": "code",
     "collapsed": false,
     "input": [
      "xs = []\n",
      "ys = []\n",
      "\n",
      "for x,y in sortedCities:\n",
      "    xs.append(x)\n",
      "    ys.append(y)"
     ],
     "language": "python",
     "metadata": {},
     "outputs": [],
     "prompt_number": 14
    },
    {
     "cell_type": "markdown",
     "metadata": {},
     "source": [
      "###Location Data: Num of users by City\n",
      "The plot shown below is a plot of the number of users and their city. Data is collected by pulling from the \"City\" column of the location data, then counted and sorted."
     ]
    },
    {
     "cell_type": "code",
     "collapsed": false,
     "input": [
      "pylab.plot(ys)\n",
      "pylab.title('Number of Users by City')\n",
      "pylab.ylabel('Number of Users')\n",
      "pylab.xlabel('City')"
     ],
     "language": "python",
     "metadata": {},
     "outputs": [
      {
       "metadata": {},
       "output_type": "pyout",
       "prompt_number": 15,
       "text": [
        "<matplotlib.text.Text at 0x3f3130890>"
       ]
      },
      {
       "metadata": {},
       "output_type": "display_data",
       "png": "[encoded data removed]",
       "text": [
        "<matplotlib.figure.Figure at 0x4126a7110>"
       ]
      }
     ],
     "prompt_number": 15
    },
    {
     "cell_type": "code",
     "collapsed": false,
     "input": [],
     "language": "python",
     "metadata": {},
     "outputs": []
    }
   ],
   "metadata": {}
  }
 ]
}