{
 "cells": [
  {
   "cell_type": "code",
   "execution_count": 1,
   "metadata": {
    "collapsed": false
   },
   "outputs": [
    {
     "name": "stderr",
     "output_type": "stream",
     "text": [
      "/playpen/anaconda/lib/python2.7/site-packages/pandas/io/parsers.py:1159: DtypeWarning: Columns (10,11,13,25,87,88,104) have mixed types. Specify dtype option on import or set low_memory=False.\n",
      "  data = self._reader.read(nrows)\n",
      "/playpen/anaconda/lib/python2.7/site-packages/pandas/io/parsers.py:1159: DtypeWarning: Columns (10,11,13,25,61,62,63,68,87,88,104,114) have mixed types. Specify dtype option on import or set low_memory=False.\n",
      "  data = self._reader.read(nrows)\n"
     ]
    }
   ],
   "source": [
    "%matplotlib inline\n",
    "\n",
    "import numpy as np\n",
    "import pandas as pd\n",
    "from scipy import stats\n",
    "import matplotlib.pyplot as plt\n",
    "\n",
    "df2014 = pd.read_csv('../data/master_2014.csv')\n",
    "df2013 = pd.read_csv('../data/master_2013.csv')"
   ]
  },
  {
   "cell_type": "code",
   "execution_count": 2,
   "metadata": {
    "collapsed": false
   },
   "outputs": [
    {
     "name": "stdout",
     "output_type": "stream",
     "text": [
      "<class 'pandas.core.frame.DataFrame'>\n",
      "Int64Index: 194239 entries, 0 to 194238\n",
      "Columns: 117 entries, Key to Unnamed: 16\n",
      "dtypes: float64(77), object(40)\n",
      "memory usage: 174.9+ MB\n"
     ]
    },
    {
     "data": {
      "text/html": [
       "<div style=\"max-height:1000px;max-width:1500px;overflow:auto;\">\n",
       "<table border=\"1\" class=\"dataframe\">\n",
       "  <thead>\n",
       "    <tr style=\"text-align: right;\">\n",
       "      <th></th>\n",
       "      <th>Key</th>\n",
       "      <th>RemoteAddr</th>\n",
       "      <th>GetTime</th>\n",
       "      <th>TrackData.ASN</th>\n",
       "      <th>TrackData.ASNAloc</th>\n",
       "      <th>TrackData.ASNBGP</th>\n",
       "      <th>TrackData.ASNCC</th>\n",
       "      <th>TrackData.ASNDsc</th>\n",
       "      <th>TrackData.ASNReg</th>\n",
       "      <th>TrackData.DevKey</th>\n",
       "      <th>...</th>\n",
       "      <th>City</th>\n",
       "      <th>Latitude</th>\n",
       "      <th>Longitude</th>\n",
       "      <th>DevKey</th>\n",
       "      <th>TestForm</th>\n",
       "      <th>AppVersionID</th>\n",
       "      <th>RequestID</th>\n",
       "      <th>TestError</th>\n",
       "      <th>TestDataKey</th>\n",
       "      <th>Unnamed: 16</th>\n",
       "    </tr>\n",
       "  </thead>\n",
       "  <tbody>\n",
       "    <tr>\n",
       "      <th>0</th>\n",
       "      <td>    1402185094_96.60.227.23</td>\n",
       "      <td>    96.60.227.23</td>\n",
       "      <td> 1402185094</td>\n",
       "      <td>  4181</td>\n",
       "      <td> 1203552000</td>\n",
       "      <td>    96.60.0.0/15</td>\n",
       "      <td> US</td>\n",
       "      <td>                           TDS-AS - TDS TELECOM,US</td>\n",
       "      <td>   arin</td>\n",
       "      <td> NS-112343921464559043468-13</td>\n",
       "      <td>...</td>\n",
       "      <td> williston</td>\n",
       "      <td> 33.402648</td>\n",
       "      <td> -81.420106</td>\n",
       "      <td> NS-112343921464559043468-13</td>\n",
       "      <td> Feather</td>\n",
       "      <td> 0-1-0.371381188648213754</td>\n",
       "      <td> 5393a58600ff00fff35213685eb50001737e6e65742d73...</td>\n",
       "      <td> NaN</td>\n",
       "      <td>    1402185094_96.60.227.23</td>\n",
       "      <td> Mozilla/5.0 (compatible; MSIE 10.0; Windows NT...</td>\n",
       "    </tr>\n",
       "    <tr>\n",
       "      <th>1</th>\n",
       "      <td>    1402184959_75.175.73.32</td>\n",
       "      <td>    75.175.73.32</td>\n",
       "      <td> 1402184959</td>\n",
       "      <td>   209</td>\n",
       "      <td> 1161648000</td>\n",
       "      <td>   75.160.0.0/12</td>\n",
       "      <td> US</td>\n",
       "      <td>  ASN-QWEST - Qwest Communications Company, LLC,US</td>\n",
       "      <td>   arin</td>\n",
       "      <td> NS-112343921464559043468-13</td>\n",
       "      <td>...</td>\n",
       "      <td>  portland</td>\n",
       "      <td> 45.523452</td>\n",
       "      <td>-122.676207</td>\n",
       "      <td> NS-112343921464559043468-13</td>\n",
       "      <td> Feather</td>\n",
       "      <td> 0-1-0.371381188648213754</td>\n",
       "      <td> 5393a4ff0000ff058690cebd0abf0001737e6e65742d73...</td>\n",
       "      <td> NaN</td>\n",
       "      <td>    1402184959_75.175.73.32</td>\n",
       "      <td> Mozilla/5.0 (Linux; U; en-us; KFTT Build/IML74...</td>\n",
       "    </tr>\n",
       "    <tr>\n",
       "      <th>2</th>\n",
       "      <td>   1402183963_74.83.108.232</td>\n",
       "      <td>   74.83.108.232</td>\n",
       "      <td> 1402183963</td>\n",
       "      <td>  6181</td>\n",
       "      <td> 1216771200</td>\n",
       "      <td>    74.83.0.0/17</td>\n",
       "      <td> US</td>\n",
       "      <td>           FUSE-NET - Cincinnati Bell Telephone,US</td>\n",
       "      <td>   arin</td>\n",
       "      <td> NS-112343921464559043468-13</td>\n",
       "      <td>...</td>\n",
       "      <td> covington</td>\n",
       "      <td> 39.083671</td>\n",
       "      <td> -84.508554</td>\n",
       "      <td> NS-112343921464559043468-13</td>\n",
       "      <td> Feather</td>\n",
       "      <td> 0-1-0.371381188648213754</td>\n",
       "      <td> 5393a11b00ff0586bc677b9e0a0001737e6e65742d7363...</td>\n",
       "      <td> NaN</td>\n",
       "      <td>   1402183963_74.83.108.232</td>\n",
       "      <td> Mozilla/5.0 (iPad; CPU OS 7_1_1 like Mac OS X)...</td>\n",
       "    </tr>\n",
       "    <tr>\n",
       "      <th>3</th>\n",
       "      <td> 1402183757_190.119.123.231</td>\n",
       "      <td> 190.119.123.231</td>\n",
       "      <td> 1402183757</td>\n",
       "      <td> 12252</td>\n",
       "      <td> 1339459200</td>\n",
       "      <td> 190.119.96.0/19</td>\n",
       "      <td> PE</td>\n",
       "      <td>                      America Movil Peru S.A.C.,PE</td>\n",
       "      <td> lacnic</td>\n",
       "      <td> NS-112343921464559043468-13</td>\n",
       "      <td>...</td>\n",
       "      <td>      lima</td>\n",
       "      <td>-12.050000</td>\n",
       "      <td> -77.050000</td>\n",
       "      <td> NS-112343921464559043468-13</td>\n",
       "      <td> Feather</td>\n",
       "      <td> 0-1-0.371381188648213754</td>\n",
       "      <td> 5393a04d00ff0dd72e460ce93f0001737e6e65742d7363...</td>\n",
       "      <td> NaN</td>\n",
       "      <td> 1402183757_190.119.123.231</td>\n",
       "      <td> Mozilla/5.0 (Windows NT 6.2; WOW64) AppleWebKi...</td>\n",
       "    </tr>\n",
       "    <tr>\n",
       "      <th>4</th>\n",
       "      <td>   1402183757_96.255.133.32</td>\n",
       "      <td>   96.255.133.32</td>\n",
       "      <td> 1402183757</td>\n",
       "      <td>   701</td>\n",
       "      <td> 1167350400</td>\n",
       "      <td>   96.255.0.0/16</td>\n",
       "      <td> US</td>\n",
       "      <td> UUNET - MCI Communications Services, Inc. d/b/...</td>\n",
       "      <td>   arin</td>\n",
       "      <td> NS-112343921464559043468-13</td>\n",
       "      <td>...</td>\n",
       "      <td>   herndon</td>\n",
       "      <td> 38.969555</td>\n",
       "      <td> -77.386098</td>\n",
       "      <td> NS-112343921464559043468-13</td>\n",
       "      <td> Feather</td>\n",
       "      <td> 0-1-0.371381188648213754</td>\n",
       "      <td> 5393a04d00ff04a77c4371853a0001737e6e65742d7363...</td>\n",
       "      <td> NaN</td>\n",
       "      <td>   1402183757_96.255.133.32</td>\n",
       "      <td> Mozilla/5.0 (Macintosh; Intel Mac OS X 10_9_2)...</td>\n",
       "    </tr>\n",
       "  </tbody>\n",
       "</table>\n",
       "<p>5 rows × 117 columns</p>\n",
       "</div>"
      ],
      "text/plain": [
       "                          Key       RemoteAddr     GetTime  TrackData.ASN  \\\n",
       "0     1402185094_96.60.227.23     96.60.227.23  1402185094           4181   \n",
       "1     1402184959_75.175.73.32     75.175.73.32  1402184959            209   \n",
       "2    1402183963_74.83.108.232    74.83.108.232  1402183963           6181   \n",
       "3  1402183757_190.119.123.231  190.119.123.231  1402183757          12252   \n",
       "4    1402183757_96.255.133.32    96.255.133.32  1402183757            701   \n",
       "\n",
       "   TrackData.ASNAloc TrackData.ASNBGP TrackData.ASNCC  \\\n",
       "0         1203552000     96.60.0.0/15              US   \n",
       "1         1161648000    75.160.0.0/12              US   \n",
       "2         1216771200     74.83.0.0/17              US   \n",
       "3         1339459200  190.119.96.0/19              PE   \n",
       "4         1167350400    96.255.0.0/16              US   \n",
       "\n",
       "                                    TrackData.ASNDsc TrackData.ASNReg  \\\n",
       "0                            TDS-AS - TDS TELECOM,US             arin   \n",
       "1   ASN-QWEST - Qwest Communications Company, LLC,US             arin   \n",
       "2            FUSE-NET - Cincinnati Bell Telephone,US             arin   \n",
       "3                       America Movil Peru S.A.C.,PE           lacnic   \n",
       "4  UUNET - MCI Communications Services, Inc. d/b/...             arin   \n",
       "\n",
       "              TrackData.DevKey  \\\n",
       "0  NS-112343921464559043468-13   \n",
       "1  NS-112343921464559043468-13   \n",
       "2  NS-112343921464559043468-13   \n",
       "3  NS-112343921464559043468-13   \n",
       "4  NS-112343921464559043468-13   \n",
       "\n",
       "                         ...                               City   Latitude  \\\n",
       "0                        ...                          williston  33.402648   \n",
       "1                        ...                           portland  45.523452   \n",
       "2                        ...                          covington  39.083671   \n",
       "3                        ...                               lima -12.050000   \n",
       "4                        ...                            herndon  38.969555   \n",
       "\n",
       "    Longitude                       DevKey TestForm              AppVersionID  \\\n",
       "0  -81.420106  NS-112343921464559043468-13  Feather  0-1-0.371381188648213754   \n",
       "1 -122.676207  NS-112343921464559043468-13  Feather  0-1-0.371381188648213754   \n",
       "2  -84.508554  NS-112343921464559043468-13  Feather  0-1-0.371381188648213754   \n",
       "3  -77.050000  NS-112343921464559043468-13  Feather  0-1-0.371381188648213754   \n",
       "4  -77.386098  NS-112343921464559043468-13  Feather  0-1-0.371381188648213754   \n",
       "\n",
       "                                           RequestID TestError  \\\n",
       "0  5393a58600ff00fff35213685eb50001737e6e65742d73...       NaN   \n",
       "1  5393a4ff0000ff058690cebd0abf0001737e6e65742d73...       NaN   \n",
       "2  5393a11b00ff0586bc677b9e0a0001737e6e65742d7363...       NaN   \n",
       "3  5393a04d00ff0dd72e460ce93f0001737e6e65742d7363...       NaN   \n",
       "4  5393a04d00ff04a77c4371853a0001737e6e65742d7363...       NaN   \n",
       "\n",
       "                  TestDataKey  \\\n",
       "0     1402185094_96.60.227.23   \n",
       "1     1402184959_75.175.73.32   \n",
       "2    1402183963_74.83.108.232   \n",
       "3  1402183757_190.119.123.231   \n",
       "4    1402183757_96.255.133.32   \n",
       "\n",
       "                                         Unnamed: 16  \n",
       "0  Mozilla/5.0 (compatible; MSIE 10.0; Windows NT...  \n",
       "1  Mozilla/5.0 (Linux; U; en-us; KFTT Build/IML74...  \n",
       "2  Mozilla/5.0 (iPad; CPU OS 7_1_1 like Mac OS X)...  \n",
       "3  Mozilla/5.0 (Windows NT 6.2; WOW64) AppleWebKi...  \n",
       "4  Mozilla/5.0 (Macintosh; Intel Mac OS X 10_9_2)...  \n",
       "\n",
       "[5 rows x 117 columns]"
      ]
     },
     "execution_count": 2,
     "metadata": {},
     "output_type": "execute_result"
    }
   ],
   "source": [
    "df2014.info()\n",
    "df2014.head()"
   ]
  },
  {
   "cell_type": "code",
   "execution_count": 3,
   "metadata": {
    "collapsed": false
   },
   "outputs": [
    {
     "data": {
      "text/plain": [
       "['Key',\n",
       " 'RemoteAddr',\n",
       " 'GetTime',\n",
       " 'TrackData.ASN',\n",
       " 'TrackData.ASNAloc',\n",
       " 'TrackData.ASNBGP',\n",
       " 'TrackData.ASNCC',\n",
       " 'TrackData.ASNDsc',\n",
       " 'TrackData.ASNReg',\n",
       " 'TrackData.DevKey',\n",
       " 'TrackData.Fathom',\n",
       " 'TrackData.Flash',\n",
       " 'TrackData.FlashVersion',\n",
       " 'TrackData.Mobile',\n",
       " 'TrackData.Platform',\n",
       " 'TrackData.PlatformVersion',\n",
       " 'TrackData.Product',\n",
       " 'TrackData.ProductVersion',\n",
       " 'TrackData.Referer',\n",
       " 'TrackData.RemoteAddr',\n",
       " 'TrackData.Renderer',\n",
       " 'TrackData.RendererVersion',\n",
       " 'TrackData.RequestID',\n",
       " 'TrackData.RequestTime',\n",
       " 'TrackData.TestForm',\n",
       " 'TrackData.Xhr2',\n",
       " 'LatencyData.Max',\n",
       " 'LatencyData.Min',\n",
       " 'LatencyData.Med',\n",
       " 'LatencyData.Mean',\n",
       " 'LatencyData.StdDev',\n",
       " 'LatencyData.Sum',\n",
       " 'LatencyData.Len',\n",
       " 'ThroughputData.Max',\n",
       " 'ThroughputData.Min',\n",
       " 'ThroughputData.Med',\n",
       " 'ThroughputData.Mean',\n",
       " 'ThroughputData.StdDev',\n",
       " 'ThroughputData.Sum',\n",
       " 'ThroughputData.Len',\n",
       " 'PerfData.JsHeapSizeLimit',\n",
       " 'PerfData.TotalJSHeapSize',\n",
       " 'PerfData.UsedJSHeapSize',\n",
       " 'PerfData.RedirectCount',\n",
       " 'PerfData.Type',\n",
       " 'PerfData.Connection',\n",
       " 'PerfData.DomComplete',\n",
       " 'PerfData.DomContentLoadedEvent',\n",
       " 'PerfData.DomInteractive',\n",
       " 'PerfData.DomLoading',\n",
       " 'PerfData.DomainLookup',\n",
       " 'PerfData.Fetch',\n",
       " 'PerfData.LoadEvent',\n",
       " 'PerfData.NavigationStart',\n",
       " 'PerfData.Redirect',\n",
       " 'PerfData.Request',\n",
       " 'PerfData.Response',\n",
       " 'PerfData.SecureConnection',\n",
       " 'PerfData.UnloadEvent',\n",
       " 'PerfData.Network',\n",
       " 'PerfData.Processing',\n",
       " 'PcapData.RemoteAddr',\n",
       " 'PcapData.Server',\n",
       " 'PcapData.TestKey',\n",
       " 'PcapData.Captured',\n",
       " 'PcapData.Dropped',\n",
       " 'PcapData.IfDropped',\n",
       " 'PcapData.Received',\n",
       " 'PcapData.Error',\n",
       " 'PcapFlowStats.DstDupAck',\n",
       " 'PcapFlowStats.DstLoss',\n",
       " 'PcapFlowStats.DstLossBytes',\n",
       " 'PcapFlowStats.DstOrder',\n",
       " 'PcapFlowStats.DstOther',\n",
       " 'PcapFlowStats.SrcDupAck',\n",
       " 'PcapFlowStats.SrcLoss',\n",
       " 'PcapFlowStats.SrcLossBytes',\n",
       " 'PcapFlowStats.SrcOrder',\n",
       " 'PcapFlowStats.SrcOther',\n",
       " 'PcapTCPFlow.SrcBytes',\n",
       " 'PcapTCPFlow.DstBytes',\n",
       " 'PcapTCPFlow.SrcPLBytes',\n",
       " 'PcapTCPFlow.DstPLBytes',\n",
       " 'PcapTCPFlow.SrcWireBytes',\n",
       " 'PcapTCPFlow.DstWireBytes',\n",
       " 'PcapTCPFlow.SrcPktCnt',\n",
       " 'PcapTCPFlow.DstPktCnt',\n",
       " 'YouTubeStats.VideoID',\n",
       " 'YouTubeStats.PlayerVersion',\n",
       " 'YouTubeStats.Unstarted',\n",
       " 'YouTubeStats.Cued',\n",
       " 'YouTubeStats.Buffering',\n",
       " 'YouTubeStats.Playing',\n",
       " 'YouTubeStats.Paused',\n",
       " 'YouTubeStats.Ended',\n",
       " 'YouTubeStats.TotalTime',\n",
       " 'YouTubeStats.AvgQuality',\n",
       " 'YouTubeStats.JoinTime',\n",
       " 'YouTubeStats.PlayRatio',\n",
       " 'YouTubeStats.BuffTotal',\n",
       " 'YouTubeStats.BuffRatio',\n",
       " 'YouTubeStats.BuffCount',\n",
       " 'YouTubeStats.BuffRate',\n",
       " 'PostTime',\n",
       " 'UserID',\n",
       " 'Country',\n",
       " 'Region',\n",
       " 'City',\n",
       " 'Latitude',\n",
       " 'Longitude',\n",
       " 'DevKey',\n",
       " 'TestForm',\n",
       " 'AppVersionID',\n",
       " 'RequestID',\n",
       " 'TestError',\n",
       " 'TestDataKey',\n",
       " 'Unnamed: 16']"
      ]
     },
     "execution_count": 3,
     "metadata": {},
     "output_type": "execute_result"
    }
   ],
   "source": [
    "columns = df2014.columns.tolist()\n",
    "columns"
   ]
  },
  {
   "cell_type": "code",
   "execution_count": 4,
   "metadata": {
    "collapsed": false
   },
   "outputs": [
    {
     "data": {
      "text/html": [
       "<div style=\"max-height:1000px;max-width:1500px;overflow:auto;\">\n",
       "<table border=\"1\" class=\"dataframe\">\n",
       "  <thead>\n",
       "    <tr style=\"text-align: right;\">\n",
       "      <th></th>\n",
       "      <th>Region</th>\n",
       "      <th>Country</th>\n",
       "      <th>Latitude</th>\n",
       "      <th>Longitude</th>\n",
       "    </tr>\n",
       "  </thead>\n",
       "  <tbody>\n",
       "    <tr>\n",
       "      <th>0</th>\n",
       "      <td> sc</td>\n",
       "      <td> US</td>\n",
       "      <td> 33.402648</td>\n",
       "      <td> -81.420106</td>\n",
       "    </tr>\n",
       "    <tr>\n",
       "      <th>1</th>\n",
       "      <td> or</td>\n",
       "      <td> US</td>\n",
       "      <td> 45.523452</td>\n",
       "      <td>-122.676207</td>\n",
       "    </tr>\n",
       "    <tr>\n",
       "      <th>2</th>\n",
       "      <td> ky</td>\n",
       "      <td> US</td>\n",
       "      <td> 39.083671</td>\n",
       "      <td> -84.508554</td>\n",
       "    </tr>\n",
       "    <tr>\n",
       "      <th>3</th>\n",
       "      <td> 15</td>\n",
       "      <td> PE</td>\n",
       "      <td>-12.050000</td>\n",
       "      <td> -77.050000</td>\n",
       "    </tr>\n",
       "    <tr>\n",
       "      <th>4</th>\n",
       "      <td> va</td>\n",
       "      <td> US</td>\n",
       "      <td> 38.969555</td>\n",
       "      <td> -77.386098</td>\n",
       "    </tr>\n",
       "  </tbody>\n",
       "</table>\n",
       "</div>"
      ],
      "text/plain": [
       "  Region Country   Latitude   Longitude\n",
       "0     sc      US  33.402648  -81.420106\n",
       "1     or      US  45.523452 -122.676207\n",
       "2     ky      US  39.083671  -84.508554\n",
       "3     15      PE -12.050000  -77.050000\n",
       "4     va      US  38.969555  -77.386098"
      ]
     },
     "execution_count": 4,
     "metadata": {},
     "output_type": "execute_result"
    }
   ],
   "source": [
    "coords = df2014[['Region','Country','Latitude','Longitude']]\n",
    "coords.head()"
   ]
  },
  {
   "cell_type": "code",
   "execution_count": 8,
   "metadata": {
    "collapsed": false
   },
   "outputs": [
    {
     "data": {
      "text/plain": [
       "'sc'"
      ]
     },
     "execution_count": 8,
     "metadata": {},
     "output_type": "execute_result"
    }
   ],
   "source": [
    "reg = coords['Region'][0]\n",
    "reg"
   ]
  },
  {
   "cell_type": "code",
   "execution_count": 18,
   "metadata": {
    "collapsed": false
   },
   "outputs": [],
   "source": [
    "counts_by_region = {}\n",
    "for i in range(len(coords)):\n",
    "    reg = coords['Region'][i]\n",
    "    lat = coords['Latitude'][i]\n",
    "    lon = coords['Longitude'][i]\n",
    "    if reg not in counts_by_region:\n",
    "        counts_by_region[reg] = [0,(lat,lon)]\n",
    "    else:\n",
    "        counts_by_region[reg][0] += 1"
   ]
  },
  {
   "cell_type": "code",
   "execution_count": 19,
   "metadata": {
    "collapsed": false
   },
   "outputs": [],
   "source": [
    "final = pd.DataFrame.from_dict(counts_by_region, orient=\"index\")"
   ]
  },
  {
   "cell_type": "code",
   "execution_count": 20,
   "metadata": {
    "collapsed": false
   },
   "outputs": [
    {
     "data": {
      "text/html": [
       "<div style=\"max-height:1000px;max-width:1500px;overflow:auto;\">\n",
       "<table border=\"1\" class=\"dataframe\">\n",
       "  <thead>\n",
       "    <tr style=\"text-align: right;\">\n",
       "      <th></th>\n",
       "      <th>0</th>\n",
       "      <th>1</th>\n",
       "    </tr>\n",
       "  </thead>\n",
       "  <tbody>\n",
       "    <tr>\n",
       "      <th>NaN</th>\n",
       "      <td> 993</td>\n",
       "      <td> (14.764504, -17.366029)</td>\n",
       "    </tr>\n",
       "    <tr>\n",
       "      <th>gt</th>\n",
       "      <td> 143</td>\n",
       "      <td> (-26.204103, 28.047305)</td>\n",
       "    </tr>\n",
       "    <tr>\n",
       "      <th>gr</th>\n",
       "      <td>   8</td>\n",
       "      <td>   (53.219383, 6.566502)</td>\n",
       "    </tr>\n",
       "    <tr>\n",
       "      <th>roo</th>\n",
       "      <td>  13</td>\n",
       "      <td> (21.161908, -86.851528)</td>\n",
       "    </tr>\n",
       "    <tr>\n",
       "      <th>gz</th>\n",
       "      <td>   4</td>\n",
       "      <td>  (30.013056, 31.208853)</td>\n",
       "    </tr>\n",
       "  </tbody>\n",
       "</table>\n",
       "</div>"
      ],
      "text/plain": [
       "       0                        1\n",
       "NaN  993  (14.764504, -17.366029)\n",
       "gt   143  (-26.204103, 28.047305)\n",
       "gr     8    (53.219383, 6.566502)\n",
       "roo   13  (21.161908, -86.851528)\n",
       "gz     4   (30.013056, 31.208853)"
      ]
     },
     "execution_count": 20,
     "metadata": {},
     "output_type": "execute_result"
    }
   ],
   "source": [
    "final.head()"
   ]
  },
  {
   "cell_type": "code",
   "execution_count": 21,
   "metadata": {
    "collapsed": false
   },
   "outputs": [],
   "source": [
    "final.to_csv('counts.csv')"
   ]
  },
  {
   "cell_type": "code",
   "execution_count": 22,
   "metadata": {
    "collapsed": false
   },
   "outputs": [
    {
     "name": "stdout",
     "output_type": "stream",
     "text": [
      "2013_GAE_Combiner.ipynb\t\thack_night_demo_prep.ipynb\r\n",
      "CDFs.ipynb\t\t\tLocation_Data_Plots.html\r\n",
      "CDFs-v4.ipynb\t\t\tLocation_Data_Plots.ipynb\r\n",
      "Coordinates and Browser.ipynb\tLocation_Data_Plots_v4.ipynb\r\n",
      "counts.csv\t\t\tM-lab_Query.ipynb\r\n",
      "CSV_Combiner_With_Pandas.ipynb\tPlatform_Data.ipynb\r\n",
      "DCH_backup.ipynb\t\tPlatform_Data-v4.ipynb\r\n",
      "DCH.ipynb\t\t\tplatforms.png\r\n",
      "DCH-Seaborn.ipynb\t\tREST test.ipynb\r\n",
      "DCH-v4.ipynb\t\t\tSpeedtest_data.html\r\n",
      "Duke_test_data.html\t\tSpeedtest_data.ipynb\r\n",
      "Duke_test_data.ipynb\t\tUntitled.ipynb\r\n",
      "Final Report.html\t\tZip_Code_Combiner.ipynb\r\n",
      "Final Report.ipynb\r\n"
     ]
    }
   ],
   "source": [
    "!ls"
   ]
  },
  {
   "cell_type": "code",
   "execution_count": null,
   "metadata": {
    "collapsed": true
   },
   "outputs": [],
   "source": []
  }
 ],
 "metadata": {
  "kernelspec": {
   "display_name": "Python 2",
   "language": "python",
   "name": "python2"
  },
  "language_info": {
   "codemirror_mode": {
    "name": "ipython",
    "version": 2
   },
   "file_extension": ".py",
   "mimetype": "text/x-python",
   "name": "python",
   "nbconvert_exporter": "python",
   "pygments_lexer": "ipython2",
   "version": "2.7.9"
  }
 },
 "nbformat": 4,
 "nbformat_minor": 0
}
