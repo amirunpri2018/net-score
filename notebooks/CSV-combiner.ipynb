{
 "metadata": {
  "name": ""
 },
 "nbformat": 3,
 "nbformat_minor": 0,
 "worksheets": [
  {
   "cells": [
    {
     "cell_type": "code",
     "collapsed": false,
     "input": [
      "%matplotlib inline\n",
      "\n",
      "import numpy as np\n",
      "import pylab\n",
      "import operator\n",
      "import os"
     ],
     "language": "python",
     "metadata": {},
     "outputs": [],
     "prompt_number": 23
    },
    {
     "cell_type": "code",
     "collapsed": false,
     "input": [
      "# Removes keys and number of entries that appear in the middle of the combined CSV file\n",
      "# args: fileName -> name of the file to be refined\n",
      "def refine(pathToFile):\n",
      "    abs_path = os.path.abspath(pathToFile)\n",
      "    fileName = pathToFile.split('/')[-1]\n",
      "    raw_data = open(abs_path, 'r')\n",
      "    temp = '../tmp/csv/refined_' + fileName\n",
      "    f = open(temp,'w')\n",
      "    for line in raw_data:\n",
      "        if 'Key,GetTime,RemoteAddr,TrackData.ASN' not in line and 'records' not in line:\n",
      "            f.write(line)\n",
      "    f.close()\n",
      "    raw_data.close()\n",
      "    data = np.loadtxt(temp, dtype='string', delimiter=',')\n",
      "    return data"
     ],
     "language": "python",
     "metadata": {},
     "outputs": [],
     "prompt_number": 27
    },
    {
     "cell_type": "code",
     "collapsed": false,
     "input": [
      "raw_gae_data = '../data/gae_data/01/asn/master_jan.csv'\n",
      "#print 'Raw GAE data shape: ', len(raw_gae_data)\n",
      "\n",
      "gae_data = refine(raw_gae_data)\n",
      "print gae_data.shape"
     ],
     "language": "python",
     "metadata": {},
     "outputs": [
      {
       "output_type": "stream",
       "stream": "stdout",
       "text": [
        "(32272, 103)\n",
        "['1388620799_166.137.209.31' '1388620799' '166.137.209.31' '20057'\n",
        " '985046400' '166.137.209.0/24' 'US' 'AT&T Wireless Service' 'arin'\n",
        " 'NS-112566280625436045021-2' 'false' 'false' '\"\"' 'true' 'iPad' 'iPad'\n",
        " 'IPAD' '7.0.11B554a' 'http://www.chaosastro.com/index.php/calendar'\n",
        " '166.137.209.31' 'WEBKIT' '537.51.1'\n",
        " '52c4abff0000ff045970121ac6300001737e6e65742d73636f72650001302d312d30000100'\n",
        " '1388620799' 'Egg' 'true' '731' '88' '100' '156.90625' '89.041015625'\n",
        " '5021' '32' '35.00501694915254' '4.081612648221344' '26.142987341772148'\n",
        " '25.288874720180647' '3.7431278252822744' '1264.4437360090324' '50' '\"\"'\n",
        " '\"\"' '\"\"' '\"\"' '\"\"' '\"\"' '\"\"' '\"\"' '\"\"' '\"\"' '\"\"' '\"\"' '\"\"' '\"\"' '\"\"' '\"\"'\n",
        " '\"\"' '\"\"' '\"\"' '\"\"' '\"\"' '\"\"' '\"\"' '\"\"' '\"\"' '\"\"' '\"\"' '\"\"' '\"\"' '\"\"' '\"\"'\n",
        " '\"\"' '\"\"' '\"\"' '\"\"' '\"\"' '\"\"' '\"\"' '\"\"' '\"\"' '\"\"' '\"\"' '\"\"' '\"\"' '\"\"' '\"\"'\n",
        " '\"\"' '\"\"' '\"\"' '\"\"' '\"\"' '\"\"' '\"\"' '\"\"' '\"\"' '\"\"' '\"\"' '\"\"' '\"\"' '\"\"' '\"\"'\n",
        " '\"\"' '\"\"']\n"
       ]
      }
     ],
     "prompt_number": 28
    },
    {
     "cell_type": "code",
     "collapsed": false,
     "input": [],
     "language": "python",
     "metadata": {},
     "outputs": []
    }
   ],
   "metadata": {}
  }
 ]
}