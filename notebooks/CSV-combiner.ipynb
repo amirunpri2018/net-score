{
 "metadata": {
  "name": ""
 },
 "nbformat": 3,
 "nbformat_minor": 0,
 "worksheets": [
  {
   "cells": [
    {
     "cell_type": "code",
     "collapsed": false,
     "input": [
      "%matplotlib inline\n",
      "\n",
      "import numpy as np\n",
      "import pylab\n",
      "import operator\n",
      "import os\n",
      "import pandas as pd"
     ],
     "language": "python",
     "metadata": {},
     "outputs": [],
     "prompt_number": 1
    },
    {
     "cell_type": "code",
     "collapsed": false,
     "input": [
      "# Removes keys and number of entries that appear in the middle of the combined CSV file\n",
      "# args: fileName -> name of the file to be refined\n",
      "def refine(pathToFile):\n",
      "    abs_path = os.path.abspath(pathToFile)\n",
      "    fileName = pathToFile.split('/')[-1]\n",
      "    raw_data = open(abs_path, 'r')\n",
      "    temp = '../tmp/csv/refined_' + fileName\n",
      "    f = open(temp,'w')\n",
      "    for line in raw_data:\n",
      "        if 'Key,RemoteAddr,GetTime' not in line and 'records' not in line:\n",
      "            f.write(line)\n",
      "    f.close()\n",
      "    raw_data.close()\n",
      "    data = np.loadtxt(temp, dtype='object', delimiter=',')\n",
      "    return data"
     ],
     "language": "python",
     "metadata": {},
     "outputs": [],
     "prompt_number": 2
    },
    {
     "cell_type": "code",
     "collapsed": false,
     "input": [
      "# months = ['jan','mar','apr','may','jul']\n",
      "# for month in months:\n",
      "#     path = '../data/gae_data/asn/master_{0}_asn.csv'.format(month)\n",
      "#     data = np.loadtxt(path, dtype='object', delimiter=',')\n",
      "#     print month, \": \", data.shape"
     ],
     "language": "python",
     "metadata": {},
     "outputs": [],
     "prompt_number": 3
    },
    {
     "cell_type": "code",
     "collapsed": false,
     "input": [
      "raw_loc_data = '../data/gae_data/loc/master_2014_loc.csv'\n",
      "raw_asn_data = '../data/gae_data/asn/master_2014_asn.csv'\n",
      "#print 'Raw GAE data shape: ', len(raw_gae_data)\n",
      "\n",
      "#asn_data = refine(raw_asn_data)\n",
      "master_asn = np.loadtxt(raw_asn_data, dtype='string', delimiter=',')\n",
      "print \"ASN CSV shape: {0}\".format(master_asn.shape)\n",
      "\n",
      "master_loc = np.loadtxt(raw_loc_data, dtype='string', delimiter=',')\n",
      "print \"Loc CSV shape: {0}\".format(master_loc.shape)"
     ],
     "language": "python",
     "metadata": {},
     "outputs": [
      {
       "output_type": "stream",
       "stream": "stdout",
       "text": [
        "ASN CSV shape: (143780, 103)\n",
        "Loc CSV shape: (421961, 17)"
       ]
      },
      {
       "output_type": "stream",
       "stream": "stdout",
       "text": [
        "\n"
       ]
      }
     ],
     "prompt_number": 4
    },
    {
     "cell_type": "code",
     "collapsed": false,
     "input": [
      "print master_asn[:,0:3]\n",
      "print master_loc[:,0:3]\n",
      "print master_asn[0,:]"
     ],
     "language": "python",
     "metadata": {},
     "outputs": [
      {
       "output_type": "stream",
       "stream": "stdout",
       "text": [
        "[['Key' 'GetTime' 'RemoteAddr']\n",
        " ['1396396580_66.65.182.249' '1396396580' '66.65.182.249']\n",
        " ['1396396518_203.104.11.13' '1396396518' '203.104.11.13']\n",
        " ..., \n",
        " ['1401494619_65.191.113.152' '1401494619' '65.191.113.152']\n",
        " ['1401494572_74.194.169.38' '1401494572' '74.194.169.38']\n",
        " ['1401494453_2602:302:da8:be09:d9ec:ee93:30fc:3d79' '1401494453'\n",
        "  '2602:302:da8:be09:d9ec:ee93:30fc:3d79']]\n",
        "[['Key' 'RemoteAddr' 'GetTime']\n",
        " ['1396396580_66.65.182.249' '66.65.182.249' '1396396580']\n",
        " ['1396396548_203.104.11.13' '203.104.11.13' '1396396548']\n",
        " ..., \n",
        " ['1401494572_74.194.169.38' '74.194.169.38' '1401494572']\n",
        " ['1401494564_189.105.76.9' '189.105.76.9' '1401494564']\n",
        " ['1401494453_2602:302:da8:be09:d9ec:ee93:30fc:3d79'\n",
        "  '2602:302:da8:be09:d9ec:ee93:30fc:3d79' '1401494453']]\n",
        "['Key' 'GetTime' 'RemoteAddr' 'TrackData.ASN' 'TrackData.ASNAloc'\n",
        " 'TrackData.ASNBGP' 'TrackData.ASNCC' 'TrackData.ASNDsc' 'TrackData.ASNReg'\n",
        " 'TrackData.DevKey' 'TrackData.Fathom' 'TrackData.Flash'\n",
        " 'TrackData.FlashVersion' 'TrackData.Mobile' 'TrackData.Platform'\n",
        " 'TrackData.PlatformVersion' 'TrackData.Product' 'TrackData.ProductVersion'\n",
        " 'TrackData.Referer' 'TrackData.RemoteAddr' 'TrackData.Renderer'\n",
        " 'TrackData.RendererVersion' 'TrackData.RequestID' 'TrackData.RequestTime'\n",
        " 'TrackData.TestForm' 'TrackData.Xhr2' 'LatencyData.Max' 'LatencyData.Min'\n",
        " 'LatencyData.Med' 'LatencyData.Mean' 'LatencyData.StdDev'\n",
        " 'LatencyData.Sum' 'LatencyData.Len' 'ThroughputData.Max'\n",
        " 'ThroughputData.Min' 'ThroughputData.Med' 'ThroughputData.Mean'\n",
        " 'ThroughputData.StdDev' 'ThroughputData.Sum' 'ThroughputData.Len'\n",
        " 'PerfData.JsHeapSizeLimit' 'PerfData.TotalJSHeapSize'\n",
        " 'PerfData.UsedJSHeapSize' 'PerfData.RedirectCount' 'PerfData.Type'\n",
        " 'PerfData.Connection' 'PerfData.DomComplete'\n",
        " 'PerfData.DomContentLoadedEvent' 'PerfData.DomInteractive'\n",
        " 'PerfData.DomLoading' 'PerfData.DomainLookup' 'PerfData.Fetch'\n",
        " 'PerfData.LoadEvent' 'PerfData.NavigationStart' 'PerfData.Redirect'\n",
        " 'PerfData.Request' 'PerfData.Response' 'PerfData.SecureConnection'\n",
        " 'PerfData.UnloadEvent' 'PerfData.Network' 'PerfData.Processing'\n",
        " 'PcapData.RemoteAddr' 'PcapData.Server' 'PcapData.TestKey'\n",
        " 'PcapData.Captured' 'PcapData.Dropped' 'PcapData.IfDropped'\n",
        " 'PcapData.Received' 'PcapData.Error' 'PcapFlowStats.DstDupAck'\n",
        " 'PcapFlowStats.DstLoss' 'PcapFlowStats.DstLossBytes'\n",
        " 'PcapFlowStats.DstOrder' 'PcapFlowStats.DstOther'\n",
        " 'PcapFlowStats.SrcDupAck' 'PcapFlowStats.SrcLoss'\n",
        " 'PcapFlowStats.SrcLossBytes' 'PcapFlowStats.SrcOrder'\n",
        " 'PcapFlowStats.SrcOther' 'PcapTCPFlow.SrcBytes' 'PcapTCPFlow.DstBytes'\n",
        " 'PcapTCPFlow.SrcPLBytes' 'PcapTCPFlow.DstPLBytes'\n",
        " 'PcapTCPFlow.SrcWireBytes' 'PcapTCPFlow.DstWireBytes'\n",
        " 'PcapTCPFlow.SrcPktCnt' 'PcapTCPFlow.DstPktCnt' 'YouTubeStats.VideoID'\n",
        " 'YouTubeStats.PlayerVersion' 'YouTubeStats.Unstarted' 'YouTubeStats.Cued'\n",
        " 'YouTubeStats.Buffering' 'YouTubeStats.Playing' 'YouTubeStats.Paused'\n",
        " 'YouTubeStats.Ended' 'YouTubeStats.TotalTime' 'YouTubeStats.AvgQuality'\n",
        " 'YouTubeStats.JoinTime' 'YouTubeStats.PlayRatio' 'YouTubeStats.BuffTotal'\n",
        " 'YouTubeStats.BuffRatio' 'YouTubeStats.BuffCount' 'YouTubeStats.BuffRate']\n"
       ]
      }
     ],
     "prompt_number": 5
    },
    {
     "cell_type": "code",
     "collapsed": false,
     "input": [
      "print master_asn[:,35]"
     ],
     "language": "python",
     "metadata": {},
     "outputs": [
      {
       "output_type": "stream",
       "stream": "stdout",
       "text": [
        "['ThroughputData.Med' '1.2835898073337475' '1.3005642317380353' ...,\n",
        " '2.1010132248219735' '0.9086212054553453' '4.836758782201405']\n"
       ]
      }
     ],
     "prompt_number": 8
    },
    {
     "cell_type": "code",
     "collapsed": false,
     "input": [
      "# Slice keys out for ease\n",
      "master_asn_keys = master_asn[:,0]\n",
      "master_loc_keys = master_loc[:,0]\n",
      "master_asn_times = master_asn[:,1]\n",
      "master_loc_times = master_loc[:,2]\n",
      "master_asn_remote = master_asn[:,2]\n",
      "master_loc_remote = master_loc[:,1]"
     ],
     "language": "python",
     "metadata": {},
     "outputs": [],
     "prompt_number": 9
    },
    {
     "cell_type": "code",
     "collapsed": false,
     "input": [
      "master_thrumed = master_asn[:,35]\n",
      "\n",
      "master_list = {}\n",
      "for x in xrange(len(master_asn)):\n",
      "    # Generate keys\n",
      "    if not master_asn_keys[x] == \"Key\":\n",
      "        key = \"{0}{1}{2}\".format(master_asn_keys[x], master_asn_times[x], master_asn_remote[x])\n",
      "        if key not in master_list:\n",
      "            master_list[key] = []\n",
      "        thru = master_thrumed[x]\n",
      "        if thru > 0 or \"inf\" not in thru:\n",
      "            master_list[key].append(thru)"
     ],
     "language": "python",
     "metadata": {},
     "outputs": [],
     "prompt_number": 10
    },
    {
     "cell_type": "code",
     "collapsed": false,
     "input": [
      "# 7, 8, 9\n",
      "cities = master_loc[:,7]\n",
      "coords = master_loc[:,8:10]\n",
      "print coords.shape"
     ],
     "language": "python",
     "metadata": {},
     "outputs": [
      {
       "output_type": "stream",
       "stream": "stdout",
       "text": [
        "(421961, 2)\n"
       ]
      }
     ],
     "prompt_number": 11
    },
    {
     "cell_type": "code",
     "collapsed": false,
     "input": [
      "for x in xrange(len(master_loc)):\n",
      "    if not master_loc_keys[x] == \"Key\":\n",
      "        key = \"{0}{1}{2}\".format(master_loc_keys[x], master_loc_times[x], master_loc_remote[x])\n",
      "        if key in master_list:\n",
      "            master_list[key].append(cities[x])\n",
      "            master_list[key].append(coords[x,0])\n",
      "            master_list[key].append(coords[x,1])"
     ],
     "language": "python",
     "metadata": {},
     "outputs": [],
     "prompt_number": 12
    },
    {
     "cell_type": "code",
     "collapsed": false,
     "input": [
      "with open('../data/simple_combined_usingmed.csv', 'w') as simple:\n",
      "    for key in master_list.keys():\n",
      "        #   Key, Thru, City, Lat, Long\n",
      "        vals = master_list[key]\n",
      "        s = \"{0},{1},{2},{3},{4}\\n\".format(key, vals[0], vals[1], vals[2], vals[3])\n",
      "        simple.write(s)\n",
      "        simple.flush()"
     ],
     "language": "python",
     "metadata": {},
     "outputs": [],
     "prompt_number": 13
    },
    {
     "cell_type": "code",
     "collapsed": false,
     "input": [
      "simplified_data = np.loadtxt('../data/simple_combined_usingmed.csv', dtype='string', delimiter=',')"
     ],
     "language": "python",
     "metadata": {},
     "outputs": [],
     "prompt_number": 14
    },
    {
     "cell_type": "code",
     "collapsed": false,
     "input": [
      "print simplified_data[0,:]"
     ],
     "language": "python",
     "metadata": {},
     "outputs": [
      {
       "output_type": "stream",
       "stream": "stdout",
       "text": [
        "['1396278765_165.155.208.851396278765165.155.208.85' '0.6398066914498141'\n",
        " 'new york' '40.714353' '-74.005973']\n"
       ]
      }
     ],
     "prompt_number": 15
    },
    {
     "cell_type": "code",
     "collapsed": false,
     "input": [
      "mas_cities = simplified_data[:,2]\n",
      "coords = simplified_data[:,3:]\n",
      "\n",
      "combined = {}\n",
      "for x in xrange(simplified_data.shape[0]):\n",
      "    city = simplified_data[x,2]\n",
      "    lat = simplified_data[x,3]\n",
      "    lon = simplified_data[x,4]\n",
      "    coord = (lat, lon)\n",
      "    thru = simplified_data[x,1]\n",
      "    try:\n",
      "        thru = float(thru)\n",
      "        if city not in combined:\n",
      "            count = 1\n",
      "            combined[city] = [coord, thru, count]\n",
      "        else:\n",
      "            vals = combined[city]\n",
      "            new_count = vals[2] + 1\n",
      "            avg_thru = (vals[1] + thru)/2\n",
      "            combined[city] = [coord, avg_thru, new_count]\n",
      "    except:\n",
      "        pass"
     ],
     "language": "python",
     "metadata": {},
     "outputs": [],
     "prompt_number": 18
    },
    {
     "cell_type": "code",
     "collapsed": false,
     "input": [
      "with open('../data/final_med.csv', 'w') as final:\n",
      "    final.write('City,Latitude,Longitude,Median Throughput, Count\\n')\n",
      "    for key in combined.keys():\n",
      "        vals = combined[key]\n",
      "        coords = vals[0]\n",
      "        s = '{0},{1},{2},{3},{4}\\n'.format(key, coords[0], coords[1], vals[1], vals[2])\n",
      "        final.write(s)\n",
      "        final.flush()"
     ],
     "language": "python",
     "metadata": {},
     "outputs": [],
     "prompt_number": 19
    },
    {
     "cell_type": "code",
     "collapsed": false,
     "input": [],
     "language": "python",
     "metadata": {},
     "outputs": [],
     "prompt_number": 14
    }
   ],
   "metadata": {}
  }
 ]
}