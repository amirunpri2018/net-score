{
 "metadata": {
  "name": ""
 },
 "nbformat": 3,
 "nbformat_minor": 0,
 "worksheets": [
  {
   "cells": [
    {
     "cell_type": "code",
     "collapsed": false,
     "input": [
      "%matplotlib inline\n",
      "\n",
      "import numpy as np\n",
      "import pylab\n",
      "import operator\n",
      "import os"
     ],
     "language": "python",
     "metadata": {},
     "outputs": [],
     "prompt_number": 18
    },
    {
     "cell_type": "code",
     "collapsed": false,
     "input": [
      "# Removes keys and number of entries that appear in the middle of the combined CSV file\n",
      "# args: fileName -> name of the file to be refined\n",
      "def refine(pathToFile):\n",
      "    abs_path = os.path.abspath(pathToFile)\n",
      "    fileName = pathToFile.split('/')[-1]\n",
      "    raw_data = open(abs_path, 'r')\n",
      "    temp = '../tmp/csv/refined_' + fileName\n",
      "    f = open(temp,'w')\n",
      "    for line in raw_data:\n",
      "        if 'Key,RemoteAddr,GetTime' not in line and 'records' not in line:\n",
      "            f.write(line)\n",
      "    f.close()\n",
      "    raw_data.close()\n",
      "    data = np.loadtxt(temp, dtype='object', delimiter=',')\n",
      "    return data"
     ],
     "language": "python",
     "metadata": {},
     "outputs": [],
     "prompt_number": 23
    },
    {
     "cell_type": "code",
     "collapsed": false,
     "input": [
      "months = ['jan','feb','mar','apr','may','jun','jul']\n",
      "for month in months:\n",
      "    path = '../data/gae_data/asn/master_' + month + '_asn.csv'\n",
      "    data = np.loadtxt(path, dtype='object', delimiter=',')\n",
      "    print month, \": \", data.shape"
     ],
     "language": "python",
     "metadata": {},
     "outputs": [
      {
       "output_type": "stream",
       "stream": "stdout",
       "text": [
        "jan :  (32303, 103)\n",
        "feb"
       ]
      },
      {
       "output_type": "stream",
       "stream": "stdout",
       "text": [
        " :  (34118,)\n",
        "mar"
       ]
      },
      {
       "output_type": "stream",
       "stream": "stdout",
       "text": [
        " :  (36992, 103)\n",
        "apr"
       ]
      },
      {
       "output_type": "stream",
       "stream": "stdout",
       "text": [
        " :  (30894, 103)\n",
        "may"
       ]
      },
      {
       "output_type": "stream",
       "stream": "stdout",
       "text": [
        " :  (29508, 103)\n",
        "jun"
       ]
      },
      {
       "output_type": "stream",
       "stream": "stdout",
       "text": [
        " :  (16493,)\n",
        "jul"
       ]
      },
      {
       "output_type": "stream",
       "stream": "stdout",
       "text": [
        " :  (14083, 103)\n"
       ]
      }
     ],
     "prompt_number": 26
    },
    {
     "cell_type": "code",
     "collapsed": false,
     "input": [
      "raw_loc_data = '../data/gae_data/loc/master_2014_loc.csv'\n",
      "raw_asn_data = '../data/gae_data/asn/master_2014_asn.csv'\n",
      "#print 'Raw GAE data shape: ', len(raw_gae_data)\n",
      "\n",
      "#asn_data = refine(raw_asn_data)\n",
      "master_asn = np.loadtxt(raw_asn_data, dtype='string', delimiter=',')\n",
      "print master_asn.shape\n",
      "print master_asn[0,:]"
     ],
     "language": "python",
     "metadata": {},
     "outputs": [
      {
       "output_type": "stream",
       "stream": "stdout",
       "text": [
        "(143780, 103)\n",
        "['Key' 'GetTime' 'RemoteAddr' 'TrackData.ASN' 'TrackData.ASNAloc'\n",
        " 'TrackData.ASNBGP' 'TrackData.ASNCC' 'TrackData.ASNDsc' 'TrackData.ASNReg'\n",
        " 'TrackData.DevKey' 'TrackData.Fathom' 'TrackData.Flash'\n",
        " 'TrackData.FlashVersion' 'TrackData.Mobile' 'TrackData.Platform'\n",
        " 'TrackData.PlatformVersion' 'TrackData.Product' 'TrackData.ProductVersion'\n",
        " 'TrackData.Referer' 'TrackData.RemoteAddr' 'TrackData.Renderer'\n",
        " 'TrackData.RendererVersion' 'TrackData.RequestID' 'TrackData.RequestTime'\n",
        " 'TrackData.TestForm' 'TrackData.Xhr2' 'LatencyData.Max' 'LatencyData.Min'\n",
        " 'LatencyData.Med' 'LatencyData.Mean' 'LatencyData.StdDev'\n",
        " 'LatencyData.Sum' 'LatencyData.Len' 'ThroughputData.Max'\n",
        " 'ThroughputData.Min' 'ThroughputData.Med' 'ThroughputData.Mean'\n",
        " 'ThroughputData.StdDev' 'ThroughputData.Sum' 'ThroughputData.Len'\n",
        " 'PerfData.JsHeapSizeLimit' 'PerfData.TotalJSHeapSize'\n",
        " 'PerfData.UsedJSHeapSize' 'PerfData.RedirectCount' 'PerfData.Type'\n",
        " 'PerfData.Connection' 'PerfData.DomComplete'\n",
        " 'PerfData.DomContentLoadedEvent' 'PerfData.DomInteractive'\n",
        " 'PerfData.DomLoading' 'PerfData.DomainLookup' 'PerfData.Fetch'\n",
        " 'PerfData.LoadEvent' 'PerfData.NavigationStart' 'PerfData.Redirect'\n",
        " 'PerfData.Request' 'PerfData.Response' 'PerfData.SecureConnection'\n",
        " 'PerfData.UnloadEvent' 'PerfData.Network' 'PerfData.Processing'\n",
        " 'PcapData.RemoteAddr' 'PcapData.Server' 'PcapData.TestKey'\n",
        " 'PcapData.Captured' 'PcapData.Dropped' 'PcapData.IfDropped'\n",
        " 'PcapData.Received' 'PcapData.Error' 'PcapFlowStats.DstDupAck'\n",
        " 'PcapFlowStats.DstLoss' 'PcapFlowStats.DstLossBytes'\n",
        " 'PcapFlowStats.DstOrder' 'PcapFlowStats.DstOther'\n",
        " 'PcapFlowStats.SrcDupAck' 'PcapFlowStats.SrcLoss'\n",
        " 'PcapFlowStats.SrcLossBytes' 'PcapFlowStats.SrcOrder'\n",
        " 'PcapFlowStats.SrcOther' 'PcapTCPFlow.SrcBytes' 'PcapTCPFlow.DstBytes'\n",
        " 'PcapTCPFlow.SrcPLBytes' 'PcapTCPFlow.DstPLBytes'\n",
        " 'PcapTCPFlow.SrcWireBytes' 'PcapTCPFlow.DstWireBytes'\n",
        " 'PcapTCPFlow.SrcPktCnt' 'PcapTCPFlow.DstPktCnt' 'YouTubeStats.VideoID'\n",
        " 'YouTubeStats.PlayerVersion' 'YouTubeStats.Unstarted' 'YouTubeStats.Cued'\n",
        " 'YouTubeStats.Buffering' 'YouTubeStats.Playing' 'YouTubeStats.Paused'\n",
        " 'YouTubeStats.Ended' 'YouTubeStats.TotalTime' 'YouTubeStats.AvgQuality'\n",
        " 'YouTubeStats.JoinTime' 'YouTubeStats.PlayRatio' 'YouTubeStats.BuffTotal'\n",
        " 'YouTubeStats.BuffRatio' 'YouTubeStats.BuffCount' 'YouTubeStats.BuffRate']\n"
       ]
      }
     ],
     "prompt_number": 29
    },
    {
     "cell_type": "code",
     "collapsed": false,
     "input": [
      "print refined_loc_data.shape"
     ],
     "language": "python",
     "metadata": {},
     "outputs": [
      {
       "output_type": "stream",
       "stream": "stdout",
       "text": [
        "(421961, 17)\n"
       ]
      }
     ],
     "prompt_number": 15
    },
    {
     "cell_type": "code",
     "collapsed": false,
     "input": [],
     "language": "python",
     "metadata": {},
     "outputs": [
      {
       "metadata": {},
       "output_type": "pyout",
       "prompt_number": 16,
       "text": [
        "458042"
       ]
      }
     ],
     "prompt_number": 16
    },
    {
     "cell_type": "code",
     "collapsed": false,
     "input": [],
     "language": "python",
     "metadata": {},
     "outputs": [
      {
       "metadata": {},
       "output_type": "pyout",
       "prompt_number": 17,
       "text": [
        "210"
       ]
      }
     ],
     "prompt_number": 17
    },
    {
     "cell_type": "code",
     "collapsed": false,
     "input": [],
     "language": "python",
     "metadata": {},
     "outputs": []
    }
   ],
   "metadata": {}
  }
 ]
}