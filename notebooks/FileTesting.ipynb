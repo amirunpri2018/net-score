{
 "metadata": {
  "name": ""
 },
 "nbformat": 3,
 "nbformat_minor": 0,
 "worksheets": [
  {
   "cells": [
    {
     "cell_type": "code",
     "collapsed": false,
     "input": [
      "import os\n",
      "import re\n",
      "import sys\n",
      "import math\n",
      "import signal\n",
      "import socket\n",
      "import timeit\n",
      "import threading\n",
      "from xml.dom import minidom"
     ],
     "language": "python",
     "metadata": {},
     "outputs": [],
     "prompt_number": 2
    },
    {
     "cell_type": "code",
     "collapsed": false,
     "input": [
      "uh = open(\"/Users/JamesLMartin/Documents/net-score/speedtest-cli/NCservers.php\")\n",
      "#uh = urlopen('https://dl.dropboxusercontent.com/u/50108986/NCservers.php')"
     ],
     "language": "python",
     "metadata": {},
     "outputs": [],
     "prompt_number": 20
    },
    {
     "cell_type": "code",
     "collapsed": false,
     "input": [
      "uh"
     ],
     "language": "python",
     "metadata": {},
     "outputs": [
      {
       "metadata": {},
       "output_type": "pyout",
       "prompt_number": 21,
       "text": [
        "<open file '/Users/JamesLMartin/Documents/net-score/speedtest-cli/NCservers.php', mode 'r' at 0x104bd6270>"
       ]
      }
     ],
     "prompt_number": 21
    },
    {
     "cell_type": "code",
     "collapsed": false,
     "input": [
      "serversxml = []\n",
      "xmlString = \"\"\n",
      "\n",
      "for line in uh:\n",
      "    xmlString = xmlString + line"
     ],
     "language": "python",
     "metadata": {},
     "outputs": [],
     "prompt_number": 22
    },
    {
     "cell_type": "code",
     "collapsed": false,
     "input": [
      "xmlString"
     ],
     "language": "python",
     "metadata": {},
     "outputs": [
      {
       "metadata": {},
       "output_type": "pyout",
       "prompt_number": 23,
       "text": [
        "'<?xml version=\"1.0\" encoding=\"UTF-8\"?>\\n<settings>\\n<server url=\"http://speedtest.carolinanet.com/speedtest/upload.php\" lat=\"36.0799\" lon=\"-79.8194\" name=\"Greensboro, NC\" country=\"United States\" cc=\"US\" sponsor=\"CAROLINANET\" id=\"896\"  url2=\"http://66.248.128.86/speedtest/upload.php\" host=\"speedtest.carolinanet.com:8080\" />\\n<server url=\"http://speedtest.oit.duke.edu/speedtest/upload.php\" lat=\"35.9886\" lon=\"-78.9072\" name=\"Durham, NC\" country=\"United States\" cc=\"US\" sponsor=\"Duke University\" id=\"4185\"  />\\n<server url=\"http://speedtest31.suddenlink.net/speedtest/upload.php\" lat=\"35.9417\" lon=\"-77.7972\" name=\"Rocky Mount, NC\" country=\"United States\" cc=\"US\" sponsor=\"Suddenlink Communications LLC\" id=\"5401\"  url2=\"http://speedtest32.suddenlink.net/speedtest/upload.php\" host=\"speedtest31.suddenlink.net:8080\" />\\n<server url=\"http://speedtest.ccvn.com/speedtest/upload.asp\" lat=\"35.9186\" lon=\"-82.2975\" name=\"Burnsville, NC\" country=\"United States\" cc=\"US\" sponsor=\"Country Cablevision, Inc.\" id=\"4905\"  url2=\"http://192.34.128.72/speedtest/speedtest/upload.asp\" host=\"speedtest.ccvn.com:8080\" />\\n<server url=\"http://speedtest.us2.layeredhosts.com/speedtest/upload.php\" lat=\"35.9083\" lon=\"-81.5300\" name=\"Lenoir, NC\" country=\"United States\" cc=\"US\" sponsor=\"LayeredServer\" id=\"4736\"  url2=\"http://dacentec.layeredhosts.com/speedtest/mini/speedtest/upload.php\" />\\n<server url=\"http://speedtest.ral.tqhosting.com/speedtest/upload.php\" lat=\"35.8189\" lon=\"-78.6447\" name=\"Raleigh, NC\" country=\"United States\" cc=\"US\" sponsor=\"Tranquil Hosting\" id=\"544\"  url2=\"http://speedtest2.tqhosting.com/speedtest/upload.php\" host=\"speedtest.ral.tqhosting.com:8080\" bigsamples=\"0\" />\\n<server url=\"http://glspeedtest.myglnc.com/speedtest/upload.aspx\" lat=\"35.7311\" lon=\"-77.9235\" name=\"Wilson, NC\" country=\"United States\" cc=\"US\" sponsor=\"greenlight\" id=\"1191\"  host=\"speedtest.myglnc.com:8080\" />\\n<server url=\"http://speedtest.main.nc.us/speedtest/upload.php\" lat=\"35.6008\" lon=\"-82.5542\" name=\"Asheville, NC\" country=\"United States\" cc=\"US\" sponsor=\"Mountain Area Information Network\" id=\"3248\"  host=\"speedtest.main.nc.us:8080\" />\\n<server url=\"http://24.224.127.172/speedtest/speedtest/upload.php\" lat=\"35.5847\" lon=\"-80.8103\" name=\"Mooresville, NC\" country=\"United States\" cc=\"US\" sponsor=\"MI CONNECTION\" id=\"3383\"  url2=\"http://24.224.127.172/speedtest2/speedtest/upload.php\" host=\"24.224.127.172:8080\" />\\n<server url=\"http://208.54.44.70/speedtest/upload.jsp\" lat=\"35.2269\" lon=\"-80.8433\" name=\"Charlotte, NC\" country=\"United States\" cc=\"US\" sponsor=\"T-Mobile\" id=\"1871\"  host=\"208.54.44.70:8080\" />\\n<server url=\"http://clt.speedtest.sbcglobal.net/speedtest/upload.php\" lat=\"35.2269\" lon=\"-80.8433\" name=\"Charlotte, NC\" country=\"United States\" cc=\"US\" sponsor=\"AT&amp;T\" id=\"5028\"  host=\"clt.speedtest.sbcglobal.net:8080\" />\\n<server url=\"http://speedtest-clt.spiritcom.com/speedtest/upload.php\" lat=\"35.2269\" lon=\"-80.8433\" name=\"Charlotte, NC\" country=\"United States\" cc=\"US\" sponsor=\"Spirit Communications\" id=\"4211\"  url2=\"http://165.166.8.60/speedtest/upload.php\" host=\"speedtest-clt.spiritcom.com:8080\" />\\n<server url=\"http://speedtest.port1.highlandscablegroup.com/speedtest/upload.php\" lat=\"35.0751\" lon=\"-83.2101\" name=\"Highlands, NC\" country=\"United States\" cc=\"US\" sponsor=\"Highlands Cable\" id=\"3046\"  url2=\"http://speedtest.port2.highlandscablegroup.com/speedtest/upload.php\" />\\n<server url=\"http://speedtest29.suddenlink.net/speedtest/upload.php\" lat=\"34.8525\" lon=\"-82.3942\" name=\"Greenville, NC\" country=\"United States\" cc=\"US\" sponsor=\"Suddenlink Communications LLC\" id=\"5400\"  url2=\"http://speedtest30.suddenlink.net/speedtest/upload.php\" host=\"speedtest29.suddenlink.net:8080\" />\\n<server url=\"http://25.24.5.25/speedtest/upload.php\" lat=\"38.0000\" lon=\"-97.0000\" name=\"Raleigh, NC\" country=\"United States\" cc=\"US\" sponsor=\"Time Warner Cable\" id=\"999\" url2=\"http://24.25.5.25/speedtest/upload.php\" host=\"24.25.5.25:8080\" />\\n</servers>\\n</settings>'"
       ]
      }
     ],
     "prompt_number": 23
    },
    {
     "cell_type": "code",
     "collapsed": false,
     "input": [
      "serversxml = [xmlString, '']\n",
      "print serversxml\n",
      "print type(serversxml[0])"
     ],
     "language": "python",
     "metadata": {},
     "outputs": [
      {
       "output_type": "stream",
       "stream": "stdout",
       "text": [
        "['<?xml version=\"1.0\" encoding=\"UTF-8\"?>\\n<settings>\\n<server url=\"http://speedtest.carolinanet.com/speedtest/upload.php\" lat=\"36.0799\" lon=\"-79.8194\" name=\"Greensboro, NC\" country=\"United States\" cc=\"US\" sponsor=\"CAROLINANET\" id=\"896\"  url2=\"http://66.248.128.86/speedtest/upload.php\" host=\"speedtest.carolinanet.com:8080\" />\\n<server url=\"http://speedtest.oit.duke.edu/speedtest/upload.php\" lat=\"35.9886\" lon=\"-78.9072\" name=\"Durham, NC\" country=\"United States\" cc=\"US\" sponsor=\"Duke University\" id=\"4185\"  />\\n<server url=\"http://speedtest31.suddenlink.net/speedtest/upload.php\" lat=\"35.9417\" lon=\"-77.7972\" name=\"Rocky Mount, NC\" country=\"United States\" cc=\"US\" sponsor=\"Suddenlink Communications LLC\" id=\"5401\"  url2=\"http://speedtest32.suddenlink.net/speedtest/upload.php\" host=\"speedtest31.suddenlink.net:8080\" />\\n<server url=\"http://speedtest.ccvn.com/speedtest/upload.asp\" lat=\"35.9186\" lon=\"-82.2975\" name=\"Burnsville, NC\" country=\"United States\" cc=\"US\" sponsor=\"Country Cablevision, Inc.\" id=\"4905\"  url2=\"http://192.34.128.72/speedtest/speedtest/upload.asp\" host=\"speedtest.ccvn.com:8080\" />\\n<server url=\"http://speedtest.us2.layeredhosts.com/speedtest/upload.php\" lat=\"35.9083\" lon=\"-81.5300\" name=\"Lenoir, NC\" country=\"United States\" cc=\"US\" sponsor=\"LayeredServer\" id=\"4736\"  url2=\"http://dacentec.layeredhosts.com/speedtest/mini/speedtest/upload.php\" />\\n<server url=\"http://speedtest.ral.tqhosting.com/speedtest/upload.php\" lat=\"35.8189\" lon=\"-78.6447\" name=\"Raleigh, NC\" country=\"United States\" cc=\"US\" sponsor=\"Tranquil Hosting\" id=\"544\"  url2=\"http://speedtest2.tqhosting.com/speedtest/upload.php\" host=\"speedtest.ral.tqhosting.com:8080\" bigsamples=\"0\" />\\n<server url=\"http://glspeedtest.myglnc.com/speedtest/upload.aspx\" lat=\"35.7311\" lon=\"-77.9235\" name=\"Wilson, NC\" country=\"United States\" cc=\"US\" sponsor=\"greenlight\" id=\"1191\"  host=\"speedtest.myglnc.com:8080\" />\\n<server url=\"http://speedtest.main.nc.us/speedtest/upload.php\" lat=\"35.6008\" lon=\"-82.5542\" name=\"Asheville, NC\" country=\"United States\" cc=\"US\" sponsor=\"Mountain Area Information Network\" id=\"3248\"  host=\"speedtest.main.nc.us:8080\" />\\n<server url=\"http://24.224.127.172/speedtest/speedtest/upload.php\" lat=\"35.5847\" lon=\"-80.8103\" name=\"Mooresville, NC\" country=\"United States\" cc=\"US\" sponsor=\"MI CONNECTION\" id=\"3383\"  url2=\"http://24.224.127.172/speedtest2/speedtest/upload.php\" host=\"24.224.127.172:8080\" />\\n<server url=\"http://208.54.44.70/speedtest/upload.jsp\" lat=\"35.2269\" lon=\"-80.8433\" name=\"Charlotte, NC\" country=\"United States\" cc=\"US\" sponsor=\"T-Mobile\" id=\"1871\"  host=\"208.54.44.70:8080\" />\\n<server url=\"http://clt.speedtest.sbcglobal.net/speedtest/upload.php\" lat=\"35.2269\" lon=\"-80.8433\" name=\"Charlotte, NC\" country=\"United States\" cc=\"US\" sponsor=\"AT&amp;T\" id=\"5028\"  host=\"clt.speedtest.sbcglobal.net:8080\" />\\n<server url=\"http://speedtest-clt.spiritcom.com/speedtest/upload.php\" lat=\"35.2269\" lon=\"-80.8433\" name=\"Charlotte, NC\" country=\"United States\" cc=\"US\" sponsor=\"Spirit Communications\" id=\"4211\"  url2=\"http://165.166.8.60/speedtest/upload.php\" host=\"speedtest-clt.spiritcom.com:8080\" />\\n<server url=\"http://speedtest.port1.highlandscablegroup.com/speedtest/upload.php\" lat=\"35.0751\" lon=\"-83.2101\" name=\"Highlands, NC\" country=\"United States\" cc=\"US\" sponsor=\"Highlands Cable\" id=\"3046\"  url2=\"http://speedtest.port2.highlandscablegroup.com/speedtest/upload.php\" />\\n<server url=\"http://speedtest29.suddenlink.net/speedtest/upload.php\" lat=\"34.8525\" lon=\"-82.3942\" name=\"Greenville, NC\" country=\"United States\" cc=\"US\" sponsor=\"Suddenlink Communications LLC\" id=\"5400\"  url2=\"http://speedtest30.suddenlink.net/speedtest/upload.php\" host=\"speedtest29.suddenlink.net:8080\" />\\n<server url=\"http://25.24.5.25/speedtest/upload.php\" lat=\"38.0000\" lon=\"-97.0000\" name=\"Raleigh, NC\" country=\"United States\" cc=\"US\" sponsor=\"Time Warner Cable\" id=\"999\" url2=\"http://24.25.5.25/speedtest/upload.php\" host=\"24.25.5.25:8080\" />\\n</servers>\\n</settings>', '']\n",
        "<type 'str'>\n"
       ]
      }
     ],
     "prompt_number": 27
    },
    {
     "cell_type": "code",
     "collapsed": false,
     "input": [
      "uh2 = urlopen('http://www.speedtest.net/speedtest-servers-static.php')\n",
      "serversxml = []\n",
      "while 1:\n",
      "    serversxml.append(uh2.read(10240))\n",
      "    if len(serversxml[-1]) == 0:\n",
      "        break\n",
      "if int(uh2.code) != 200:\n",
      "    print \"Bad\"\n",
      "uh2.close()\n",
      "try:\n",
      "    try:\n",
      "        root = ET.fromstring(''.encode().join(serversxml))\n",
      "        elements = root.getiterator('server')\n",
      "    except AttributeError:\n",
      "        root = DOM.parseString(''.join(serversxml))\n",
      "        elements = root.getElementsByTagName('server')\n",
      "except SyntaxError:\n",
      "    print_('Failed to parse list of speedtest.net servers')\n",
      "    sys.exit(1)"
     ],
     "language": "python",
     "metadata": {},
     "outputs": [
      {
       "ename": "NameError",
       "evalue": "name 'ET' is not defined",
       "output_type": "pyerr",
       "traceback": [
        "\u001b[0;31m---------------------------------------------------------------------------\u001b[0m\n\u001b[0;31mNameError\u001b[0m                                 Traceback (most recent call last)",
        "\u001b[0;32m<ipython-input-24-924eaf0ed06a>\u001b[0m in \u001b[0;36m<module>\u001b[0;34m()\u001b[0m\n\u001b[1;32m     10\u001b[0m \u001b[0;32mtry\u001b[0m\u001b[0;34m:\u001b[0m\u001b[0;34m\u001b[0m\u001b[0m\n\u001b[1;32m     11\u001b[0m     \u001b[0;32mtry\u001b[0m\u001b[0;34m:\u001b[0m\u001b[0;34m\u001b[0m\u001b[0m\n\u001b[0;32m---> 12\u001b[0;31m         \u001b[0mroot\u001b[0m \u001b[0;34m=\u001b[0m \u001b[0mET\u001b[0m\u001b[0;34m.\u001b[0m\u001b[0mfromstring\u001b[0m\u001b[0;34m(\u001b[0m\u001b[0;34m''\u001b[0m\u001b[0;34m.\u001b[0m\u001b[0mencode\u001b[0m\u001b[0;34m(\u001b[0m\u001b[0;34m)\u001b[0m\u001b[0;34m.\u001b[0m\u001b[0mjoin\u001b[0m\u001b[0;34m(\u001b[0m\u001b[0mserversxml\u001b[0m\u001b[0;34m)\u001b[0m\u001b[0;34m)\u001b[0m\u001b[0;34m\u001b[0m\u001b[0m\n\u001b[0m\u001b[1;32m     13\u001b[0m         \u001b[0melements\u001b[0m \u001b[0;34m=\u001b[0m \u001b[0mroot\u001b[0m\u001b[0;34m.\u001b[0m\u001b[0mgetiterator\u001b[0m\u001b[0;34m(\u001b[0m\u001b[0;34m'server'\u001b[0m\u001b[0;34m)\u001b[0m\u001b[0;34m\u001b[0m\u001b[0m\n\u001b[1;32m     14\u001b[0m     \u001b[0;32mexcept\u001b[0m \u001b[0mAttributeError\u001b[0m\u001b[0;34m:\u001b[0m\u001b[0;34m\u001b[0m\u001b[0m\n",
        "\u001b[0;31mNameError\u001b[0m: name 'ET' is not defined"
       ]
      }
     ],
     "prompt_number": 24
    },
    {
     "cell_type": "code",
     "collapsed": false,
     "input": [],
     "language": "python",
     "metadata": {},
     "outputs": []
    }
   ],
   "metadata": {}
  }
 ]
}