{
 "metadata": {
  "name": ""
 },
 "nbformat": 3,
 "nbformat_minor": 0,
 "worksheets": [
  {
   "cells": [
    {
     "cell_type": "code",
     "collapsed": false,
     "input": [
      "import pip\n",
      "import csv\n",
      "from subprocess import Popen, PIPE\n",
      "pip.main(['install', 'speedtest-cli'])"
     ],
     "language": "python",
     "metadata": {},
     "outputs": [
      {
       "output_type": "stream",
       "stream": "stdout",
       "text": [
        "Requirement already satisfied (use --upgrade to upgrade): speedtest-cli in /Users/JamesLMartin/Documents/Code/COMP116/anaconda/lib/python2.7/site-packages\n",
        "Requirement already satisfied (use --upgrade to upgrade): speedtest-cli in /Users/JamesLMartin/Documents/Code/COMP116/anaconda/lib/python2.7/site-packages\n",
        "\n",
        "Cleaning up...\n",
        "Cleaning up...\n",
        "\n"
       ]
      },
      {
       "metadata": {},
       "output_type": "pyout",
       "prompt_number": 7,
       "text": [
        "0"
       ]
      }
     ],
     "prompt_number": 7
    },
    {
     "cell_type": "code",
     "collapsed": false,
     "input": [
      "#call([\"speedtest-cli\", \"--list\"])\n",
      "for x in xrange(1):\n",
      "    p = Popen([\"speedtest-cli\", \"--server\", \"544\", \"--simple\"], stdout=PIPE, stderr=PIPE, stdin=PIPE)\n",
      "    p.wait()\n",
      "\n",
      "output = p.stdout.read()"
     ],
     "language": "python",
     "metadata": {},
     "outputs": [],
     "prompt_number": 15
    },
    {
     "cell_type": "code",
     "collapsed": false,
     "input": [
      "stats = output.split('\\n')\n",
      "print stats\n",
      "#fp = file('foo.log' , 'w')\n",
      "#fp.write('%s,%s,%s' % (ping,down,up))\n",
      "#fp.flush()"
     ],
     "language": "python",
     "metadata": {},
     "outputs": [
      {
       "output_type": "stream",
       "stream": "stdout",
       "text": [
        "['Ping: 114.032 ms', 'Download: 9.56 Mbits/s', 'Upload: 18.00 Mbits/s', '']\n"
       ]
      }
     ],
     "prompt_number": 10
    },
    {
     "cell_type": "code",
     "collapsed": false,
     "input": [
      "print len(stats)\n",
      "stats.pop(3)\n",
      "counter = 0;\n",
      "for word in stats:\n",
      "    #stats[counter] = word.split(':')[0]\n",
      "    print word.split(':')\n",
      "    counter+=1"
     ],
     "language": "python",
     "metadata": {},
     "outputs": [
      {
       "output_type": "stream",
       "stream": "stdout",
       "text": [
        "4\n",
        "['Ping', ' 114.032 ms']\n",
        "['Download', ' 9.56 Mbits/s']\n",
        "['Upload', ' 18.00 Mbits/s']\n"
       ]
      }
     ],
     "prompt_number": 11
    },
    {
     "cell_type": "code",
     "collapsed": false,
     "input": [
      "stats\n",
      "counter = 0\n",
      "for word in stats:\n",
      "    stats[counter] = (word.split(' '))[1]\n",
      "    counter+=1"
     ],
     "language": "python",
     "metadata": {},
     "outputs": [],
     "prompt_number": 12
    },
    {
     "cell_type": "code",
     "collapsed": false,
     "input": [
      "stats"
     ],
     "language": "python",
     "metadata": {},
     "outputs": [
      {
       "metadata": {},
       "output_type": "pyout",
       "prompt_number": 13,
       "text": [
        "['114.032', '9.56', '18.00']"
       ]
      }
     ],
     "prompt_number": 13
    },
    {
     "cell_type": "code",
     "collapsed": false,
     "input": [
      "import datetime\n",
      "print datetime.datetime.now()"
     ],
     "language": "python",
     "metadata": {},
     "outputs": [
      {
       "output_type": "stream",
       "stream": "stdout",
       "text": [
        "2014-09-11 16:27:14.108340\n"
       ]
      }
     ],
     "prompt_number": 19
    },
    {
     "cell_type": "code",
     "collapsed": false,
     "input": [
      "fp = file('test_results.log' , 'w')\n",
      "fp.write('%s,%s,%s,%s' % (stats[0],stats[1],stats[2],datetime.datetime.now()))\n",
      "fp.flush()"
     ],
     "language": "python",
     "metadata": {},
     "outputs": []
    }
   ],
   "metadata": {}
  }
 ]
}