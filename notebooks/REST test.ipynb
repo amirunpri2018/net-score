{
 "metadata": {
  "name": ""
 },
 "nbformat": 3,
 "nbformat_minor": 0,
 "worksheets": [
  {
   "cells": [
    {
     "cell_type": "code",
     "collapsed": false,
     "input": [
      "import urllib2\n",
      "import os\n",
      "import numpy as np\n",
      "import xml.etree.ElementTree as ET"
     ],
     "language": "python",
     "metadata": {},
     "outputs": [
      {
       "output_type": "stream",
       "stream": "stdout",
       "text": [
        "27709\n"
       ]
      }
     ],
     "prompt_number": 52
    },
    {
     "cell_type": "code",
     "collapsed": false,
     "input": [
      "base_url = 'http://whois.arin.net/rest/asn/AS'\n",
      "ASN = '81' # Could be whatever\n",
      "org_url = 'http://whois.arin.net/rest/org/'\n",
      "\n",
      "def getZipCode(ASN):\n",
      "    getOrg = urllib2.urlopen(base_url+ASN).read()\n",
      "    root = ET.fromstring(getOrg)\n",
      "    for child in root:\n",
      "        if 'orgRef' in child.tag:\n",
      "            ORG = child.get('handle')\n",
      "    getZip = urllib2.urlopen(org_url+ORG).read()\n",
      "    root = ET.fromstring(response)\n",
      "    for child in root:\n",
      "        if 'postalCode' in child.tag:\n",
      "            zipCode = child.text\n",
      "    return zipCode"
     ],
     "language": "python",
     "metadata": {},
     "outputs": []
    }
   ],
   "metadata": {}
  }
 ]
}