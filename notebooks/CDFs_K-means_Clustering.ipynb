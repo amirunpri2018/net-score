{
 "metadata": {
  "name": "",
  "signature": "sha256:9e66a4c65a0b5a6a39adc4c89a82cfbb554ed19133f7bf6c4a9db184e8f91ad5"
 },
 "nbformat": 3,
 "nbformat_minor": 0,
 "worksheets": [
  {
   "cells": [
    {
     "cell_type": "code",
     "collapsed": false,
     "input": [
      "import seaborn as sns\n",
      "import numpy as np\n",
      "import pandas as pd\n",
      "\n",
      "from bisect import bisect_left\n",
      "from scipy.stats import norm, cumfreq\n",
      "import matplotlib.pyplot as plt"
     ],
     "language": "python",
     "metadata": {},
     "outputs": [],
     "prompt_number": 1
    },
    {
     "cell_type": "code",
     "collapsed": false,
     "input": [
      "!ls ../data"
     ],
     "language": "python",
     "metadata": {},
     "outputs": [
      {
       "output_type": "stream",
       "stream": "stdout",
       "text": [
        "master_2013.csv  master_2014.csv  master.csv  simple_combined.csv\r\n"
       ]
      }
     ],
     "prompt_number": 2
    },
    {
     "cell_type": "code",
     "collapsed": false,
     "input": [
      "df = pd.read_csv('../data/master_2014.csv')\n",
      "df.head()"
     ],
     "language": "python",
     "metadata": {},
     "outputs": [
      {
       "output_type": "stream",
       "stream": "stderr",
       "text": [
        "/playpen/anaconda/lib/python2.7/site-packages/pandas/io/parsers.py:1159: DtypeWarning: Columns (10,11,13,25,87,88,104) have mixed types. Specify dtype option on import or set low_memory=False.\n",
        "  data = self._reader.read(nrows)\n"
       ]
      },
      {
       "html": [
        "<div style=\"max-height:1000px;max-width:1500px;overflow:auto;\">\n",
        "<table border=\"1\" class=\"dataframe\">\n",
        "  <thead>\n",
        "    <tr style=\"text-align: right;\">\n",
        "      <th></th>\n",
        "      <th>Key</th>\n",
        "      <th>RemoteAddr</th>\n",
        "      <th>GetTime</th>\n",
        "      <th>TrackData.ASN</th>\n",
        "      <th>TrackData.ASNAloc</th>\n",
        "      <th>TrackData.ASNBGP</th>\n",
        "      <th>TrackData.ASNCC</th>\n",
        "      <th>TrackData.ASNDsc</th>\n",
        "      <th>TrackData.ASNReg</th>\n",
        "      <th>TrackData.DevKey</th>\n",
        "      <th>...</th>\n",
        "      <th>City</th>\n",
        "      <th>Latitude</th>\n",
        "      <th>Longitude</th>\n",
        "      <th>DevKey</th>\n",
        "      <th>TestForm</th>\n",
        "      <th>AppVersionID</th>\n",
        "      <th>RequestID</th>\n",
        "      <th>TestError</th>\n",
        "      <th>TestDataKey</th>\n",
        "      <th>Unnamed: 16</th>\n",
        "    </tr>\n",
        "  </thead>\n",
        "  <tbody>\n",
        "    <tr>\n",
        "      <th>0</th>\n",
        "      <td>    1402185094_96.60.227.23</td>\n",
        "      <td>    96.60.227.23</td>\n",
        "      <td> 1402185094</td>\n",
        "      <td>  4181</td>\n",
        "      <td> 1203552000</td>\n",
        "      <td>    96.60.0.0/15</td>\n",
        "      <td> US</td>\n",
        "      <td>                           TDS-AS - TDS TELECOM,US</td>\n",
        "      <td>   arin</td>\n",
        "      <td> NS-112343921464559043468-13</td>\n",
        "      <td>...</td>\n",
        "      <td> williston</td>\n",
        "      <td> 33.402648</td>\n",
        "      <td> -81.420106</td>\n",
        "      <td> NS-112343921464559043468-13</td>\n",
        "      <td> Feather</td>\n",
        "      <td> 0-1-0.371381188648213754</td>\n",
        "      <td> 5393a58600ff00fff35213685eb50001737e6e65742d73...</td>\n",
        "      <td> NaN</td>\n",
        "      <td>    1402185094_96.60.227.23</td>\n",
        "      <td> Mozilla/5.0 (compatible; MSIE 10.0; Windows NT...</td>\n",
        "    </tr>\n",
        "    <tr>\n",
        "      <th>1</th>\n",
        "      <td>    1402184959_75.175.73.32</td>\n",
        "      <td>    75.175.73.32</td>\n",
        "      <td> 1402184959</td>\n",
        "      <td>   209</td>\n",
        "      <td> 1161648000</td>\n",
        "      <td>   75.160.0.0/12</td>\n",
        "      <td> US</td>\n",
        "      <td>  ASN-QWEST - Qwest Communications Company, LLC,US</td>\n",
        "      <td>   arin</td>\n",
        "      <td> NS-112343921464559043468-13</td>\n",
        "      <td>...</td>\n",
        "      <td>  portland</td>\n",
        "      <td> 45.523452</td>\n",
        "      <td>-122.676207</td>\n",
        "      <td> NS-112343921464559043468-13</td>\n",
        "      <td> Feather</td>\n",
        "      <td> 0-1-0.371381188648213754</td>\n",
        "      <td> 5393a4ff0000ff058690cebd0abf0001737e6e65742d73...</td>\n",
        "      <td> NaN</td>\n",
        "      <td>    1402184959_75.175.73.32</td>\n",
        "      <td> Mozilla/5.0 (Linux; U; en-us; KFTT Build/IML74...</td>\n",
        "    </tr>\n",
        "    <tr>\n",
        "      <th>2</th>\n",
        "      <td>   1402183963_74.83.108.232</td>\n",
        "      <td>   74.83.108.232</td>\n",
        "      <td> 1402183963</td>\n",
        "      <td>  6181</td>\n",
        "      <td> 1216771200</td>\n",
        "      <td>    74.83.0.0/17</td>\n",
        "      <td> US</td>\n",
        "      <td>           FUSE-NET - Cincinnati Bell Telephone,US</td>\n",
        "      <td>   arin</td>\n",
        "      <td> NS-112343921464559043468-13</td>\n",
        "      <td>...</td>\n",
        "      <td> covington</td>\n",
        "      <td> 39.083671</td>\n",
        "      <td> -84.508554</td>\n",
        "      <td> NS-112343921464559043468-13</td>\n",
        "      <td> Feather</td>\n",
        "      <td> 0-1-0.371381188648213754</td>\n",
        "      <td> 5393a11b00ff0586bc677b9e0a0001737e6e65742d7363...</td>\n",
        "      <td> NaN</td>\n",
        "      <td>   1402183963_74.83.108.232</td>\n",
        "      <td> Mozilla/5.0 (iPad; CPU OS 7_1_1 like Mac OS X)...</td>\n",
        "    </tr>\n",
        "    <tr>\n",
        "      <th>3</th>\n",
        "      <td> 1402183757_190.119.123.231</td>\n",
        "      <td> 190.119.123.231</td>\n",
        "      <td> 1402183757</td>\n",
        "      <td> 12252</td>\n",
        "      <td> 1339459200</td>\n",
        "      <td> 190.119.96.0/19</td>\n",
        "      <td> PE</td>\n",
        "      <td>                      America Movil Peru S.A.C.,PE</td>\n",
        "      <td> lacnic</td>\n",
        "      <td> NS-112343921464559043468-13</td>\n",
        "      <td>...</td>\n",
        "      <td>      lima</td>\n",
        "      <td>-12.050000</td>\n",
        "      <td> -77.050000</td>\n",
        "      <td> NS-112343921464559043468-13</td>\n",
        "      <td> Feather</td>\n",
        "      <td> 0-1-0.371381188648213754</td>\n",
        "      <td> 5393a04d00ff0dd72e460ce93f0001737e6e65742d7363...</td>\n",
        "      <td> NaN</td>\n",
        "      <td> 1402183757_190.119.123.231</td>\n",
        "      <td> Mozilla/5.0 (Windows NT 6.2; WOW64) AppleWebKi...</td>\n",
        "    </tr>\n",
        "    <tr>\n",
        "      <th>4</th>\n",
        "      <td>   1402183757_96.255.133.32</td>\n",
        "      <td>   96.255.133.32</td>\n",
        "      <td> 1402183757</td>\n",
        "      <td>   701</td>\n",
        "      <td> 1167350400</td>\n",
        "      <td>   96.255.0.0/16</td>\n",
        "      <td> US</td>\n",
        "      <td> UUNET - MCI Communications Services, Inc. d/b/...</td>\n",
        "      <td>   arin</td>\n",
        "      <td> NS-112343921464559043468-13</td>\n",
        "      <td>...</td>\n",
        "      <td>   herndon</td>\n",
        "      <td> 38.969555</td>\n",
        "      <td> -77.386098</td>\n",
        "      <td> NS-112343921464559043468-13</td>\n",
        "      <td> Feather</td>\n",
        "      <td> 0-1-0.371381188648213754</td>\n",
        "      <td> 5393a04d00ff04a77c4371853a0001737e6e65742d7363...</td>\n",
        "      <td> NaN</td>\n",
        "      <td>   1402183757_96.255.133.32</td>\n",
        "      <td> Mozilla/5.0 (Macintosh; Intel Mac OS X 10_9_2)...</td>\n",
        "    </tr>\n",
        "  </tbody>\n",
        "</table>\n",
        "<p>5 rows \u00d7 117 columns</p>\n",
        "</div>"
       ],
       "metadata": {},
       "output_type": "pyout",
       "prompt_number": 3,
       "text": [
        "                          Key       RemoteAddr     GetTime  TrackData.ASN  \\\n",
        "0     1402185094_96.60.227.23     96.60.227.23  1402185094           4181   \n",
        "1     1402184959_75.175.73.32     75.175.73.32  1402184959            209   \n",
        "2    1402183963_74.83.108.232    74.83.108.232  1402183963           6181   \n",
        "3  1402183757_190.119.123.231  190.119.123.231  1402183757          12252   \n",
        "4    1402183757_96.255.133.32    96.255.133.32  1402183757            701   \n",
        "\n",
        "   TrackData.ASNAloc TrackData.ASNBGP TrackData.ASNCC  \\\n",
        "0         1203552000     96.60.0.0/15              US   \n",
        "1         1161648000    75.160.0.0/12              US   \n",
        "2         1216771200     74.83.0.0/17              US   \n",
        "3         1339459200  190.119.96.0/19              PE   \n",
        "4         1167350400    96.255.0.0/16              US   \n",
        "\n",
        "                                    TrackData.ASNDsc TrackData.ASNReg  \\\n",
        "0                            TDS-AS - TDS TELECOM,US             arin   \n",
        "1   ASN-QWEST - Qwest Communications Company, LLC,US             arin   \n",
        "2            FUSE-NET - Cincinnati Bell Telephone,US             arin   \n",
        "3                       America Movil Peru S.A.C.,PE           lacnic   \n",
        "4  UUNET - MCI Communications Services, Inc. d/b/...             arin   \n",
        "\n",
        "              TrackData.DevKey  \\\n",
        "0  NS-112343921464559043468-13   \n",
        "1  NS-112343921464559043468-13   \n",
        "2  NS-112343921464559043468-13   \n",
        "3  NS-112343921464559043468-13   \n",
        "4  NS-112343921464559043468-13   \n",
        "\n",
        "                         ...                               City   Latitude  \\\n",
        "0                        ...                          williston  33.402648   \n",
        "1                        ...                           portland  45.523452   \n",
        "2                        ...                          covington  39.083671   \n",
        "3                        ...                               lima -12.050000   \n",
        "4                        ...                            herndon  38.969555   \n",
        "\n",
        "    Longitude                       DevKey TestForm              AppVersionID  \\\n",
        "0  -81.420106  NS-112343921464559043468-13  Feather  0-1-0.371381188648213754   \n",
        "1 -122.676207  NS-112343921464559043468-13  Feather  0-1-0.371381188648213754   \n",
        "2  -84.508554  NS-112343921464559043468-13  Feather  0-1-0.371381188648213754   \n",
        "3  -77.050000  NS-112343921464559043468-13  Feather  0-1-0.371381188648213754   \n",
        "4  -77.386098  NS-112343921464559043468-13  Feather  0-1-0.371381188648213754   \n",
        "\n",
        "                                           RequestID TestError  \\\n",
        "0  5393a58600ff00fff35213685eb50001737e6e65742d73...       NaN   \n",
        "1  5393a4ff0000ff058690cebd0abf0001737e6e65742d73...       NaN   \n",
        "2  5393a11b00ff0586bc677b9e0a0001737e6e65742d7363...       NaN   \n",
        "3  5393a04d00ff0dd72e460ce93f0001737e6e65742d7363...       NaN   \n",
        "4  5393a04d00ff04a77c4371853a0001737e6e65742d7363...       NaN   \n",
        "\n",
        "                  TestDataKey  \\\n",
        "0     1402185094_96.60.227.23   \n",
        "1     1402184959_75.175.73.32   \n",
        "2    1402183963_74.83.108.232   \n",
        "3  1402183757_190.119.123.231   \n",
        "4    1402183757_96.255.133.32   \n",
        "\n",
        "                                         Unnamed: 16  \n",
        "0  Mozilla/5.0 (compatible; MSIE 10.0; Windows NT...  \n",
        "1  Mozilla/5.0 (Linux; U; en-us; KFTT Build/IML74...  \n",
        "2  Mozilla/5.0 (iPad; CPU OS 7_1_1 like Mac OS X)...  \n",
        "3  Mozilla/5.0 (Windows NT 6.2; WOW64) AppleWebKi...  \n",
        "4  Mozilla/5.0 (Macintosh; Intel Mac OS X 10_9_2)...  \n",
        "\n",
        "[5 rows x 117 columns]"
       ]
      }
     ],
     "prompt_number": 3
    },
    {
     "cell_type": "code",
     "collapsed": false,
     "input": [
      "#CDF for Median Latencies\n",
      "medianLatencies = np.asarray(df['LatencyData.Med'].apply(lambda x: -1 if np.isnan(x) or np.isinf(x) else x))\n",
      "sml = sorted(medianLatencies.tolist())\n",
      "\n",
      "num_bins = 20\n",
      "counts, bin_edges = np.histogram(sml, bins=num_bins, normed=True)\n",
      "print counts\n",
      "cdf = np.cumsum(counts)\n",
      "plt.plot(bin_edges[1:], cdf)"
     ],
     "language": "python",
     "metadata": {},
     "outputs": [
      {
       "output_type": "stream",
       "stream": "stdout",
       "text": [
        "[  7.84948885e-07   4.04133700e-12   0.00000000e+00   1.21240110e-11\n",
        "   0.00000000e+00   0.00000000e+00   4.04133700e-12   4.04133700e-12\n",
        "   0.00000000e+00   4.04133700e-12   0.00000000e+00   0.00000000e+00\n",
        "   0.00000000e+00   0.00000000e+00   0.00000000e+00   4.04133700e-12\n",
        "   0.00000000e+00   0.00000000e+00   0.00000000e+00   4.04133700e-12]\n"
       ]
      },
      {
       "metadata": {},
       "output_type": "pyout",
       "prompt_number": 30,
       "text": [
        "[<matplotlib.lines.Line2D at 0x7fccd0427ed0>]"
       ]
      },
      {
       "metadata": {},
       "output_type": "display_data",
       "png": "[encoded data removed]",
       "text": [
        "<matplotlib.figure.Figure at 0x7fccd129e890>"
       ]
      }
     ],
     "prompt_number": 30
    },
    {
     "cell_type": "code",
     "collapsed": false,
     "input": [
      "#CDF for Mean Latencies\n",
      "meanLatencies = np.asarray(df['LatencyData.Mean'].apply(lambda x: -1 if np.isnan(x) or np.isinf(x) else x))\n",
      "mlts = sorted(meanLatencies.tolist())\n",
      "\n",
      "num_bins = 20\n",
      "counts, bin_edges = np.histogram(mlts, bins=num_bins, normed=True)\n",
      "print counts\n",
      "cdf = np.cumsum(counts)\n",
      "plt.plot(bin_edges[1:], cdf)"
     ],
     "language": "python",
     "metadata": {},
     "outputs": [
      {
       "output_type": "stream",
       "stream": "stdout",
       "text": [
        "[  1.21157183e-07   1.24754478e-12   6.23772390e-13   1.24754478e-12\n",
        "   0.00000000e+00   0.00000000e+00   0.00000000e+00   0.00000000e+00\n",
        "   0.00000000e+00   0.00000000e+00   0.00000000e+00   0.00000000e+00\n",
        "   0.00000000e+00   0.00000000e+00   0.00000000e+00   0.00000000e+00\n",
        "   0.00000000e+00   0.00000000e+00   0.00000000e+00   6.23772390e-13]\n"
       ]
      },
      {
       "metadata": {},
       "output_type": "pyout",
       "prompt_number": 43,
       "text": [
        "[<matplotlib.lines.Line2D at 0x7fccbb80a110>]"
       ]
      },
      {
       "metadata": {},
       "output_type": "display_data",
       "png": "[encoded data removed]",
       "text": [
        "<matplotlib.figure.Figure at 0x7fccbb883190>"
       ]
      }
     ],
     "prompt_number": 43
    },
    {
     "cell_type": "code",
     "collapsed": false,
     "input": [
      "#CDF for Median Throughputs\n",
      "df['ThroughputData.Med'] = df['ThroughputData.Med'].apply(lambda x: np.float(x))\n",
      "medianThroughputs = np.asarray(df['ThroughputData.Med'].apply(lambda x: -1 if np.isnan(x) or np.isinf(x) or x < 0 else x))\n",
      "medtps = sorted(medianThroughputs.tolist())\n",
      "\n",
      "num_bins = 20\n",
      "counts, bin_edges = np.histogram(medtps, bins=num_bins, normed=True)\n",
      "print counts\n",
      "cdf = np.cumsum(counts)\n",
      "plt.plot(bin_edges[1:], cdf)"
     ],
     "language": "python",
     "metadata": {},
     "outputs": [
      {
       "output_type": "stream",
       "stream": "stdout",
       "text": [
        "[  9.63540360e-03   2.02812835e-05   7.77366150e-06   2.64105166e-06\n",
        "   1.89358421e-06   1.74409072e-06   1.64442839e-06   0.00000000e+00\n",
        "   1.99324654e-07   0.00000000e+00   2.54138934e-06   5.48142798e-07\n",
        "   0.00000000e+00   0.00000000e+00   0.00000000e+00   4.98311635e-08\n",
        "   0.00000000e+00   0.00000000e+00   0.00000000e+00   4.43497355e-06]\n"
       ]
      },
      {
       "metadata": {},
       "output_type": "pyout",
       "prompt_number": 44,
       "text": [
        "[<matplotlib.lines.Line2D at 0x7fccbb75d410>]"
       ]
      },
      {
       "metadata": {},
       "output_type": "display_data",
       "png": "[encoded data removed]",
       "text": [
        "<matplotlib.figure.Figure at 0x7fccbb832110>"
       ]
      }
     ],
     "prompt_number": 44
    },
    {
     "cell_type": "code",
     "collapsed": false,
     "input": [
      "#CDF for Mean Throughputs\n",
      "df['ThroughputData.Mean'] = df['ThroughputData.Mean'].apply(lambda x: np.float(x))\n",
      "meanThroughputs = np.asarray(df['ThroughputData.Mean'].apply(lambda x: -1 if np.isnan(x) or np.isinf(x) or x < 0 else x))\n",
      "mtps = sorted(meanThroughputs.tolist())\n",
      "\n",
      "num_bins = 20\n",
      "counts, bin_edges = np.histogram(mtps, bins=num_bins, normed=True)\n",
      "print counts\n",
      "cdf = np.cumsum(counts)\n",
      "plt.plot(bin_edges[1:], cdf)"
     ],
     "language": "python",
     "metadata": {},
     "outputs": [
      {
       "output_type": "stream",
       "stream": "stdout",
       "text": [
        "[  1.53469542e-02   6.33537708e-05   1.04132296e-05   5.40534054e-06\n",
        "   4.45145692e-06   2.94114118e-06   1.51031574e-06   1.03337393e-06\n",
        "   6.35922417e-07   9.53883625e-07   3.17961208e-07   2.38470906e-07\n",
        "   3.97451511e-07   7.94903021e-08   1.58980604e-07   2.38470906e-07\n",
        "   2.38470906e-07   2.38470906e-07   2.38470906e-07   3.17961208e-07]\n"
       ]
      },
      {
       "metadata": {},
       "output_type": "pyout",
       "prompt_number": 45,
       "text": [
        "[<matplotlib.lines.Line2D at 0x7fccbb691790>]"
       ]
      },
      {
       "metadata": {},
       "output_type": "display_data",
       "png": "[encoded data removed]",
       "text": [
        "<matplotlib.figure.Figure at 0x7fccbb976350>"
       ]
      }
     ],
     "prompt_number": 45
    },
    {
     "cell_type": "code",
     "collapsed": false,
     "input": [
      "df2013 = pd.read_csv('../data/master_2013.csv')\n",
      "buffRatio = df2013[np.isfinite(df2013['YouTubeStats.BuffRatio'])]\n",
      "cols = buffRatio.columns.tolist()\n",
      "cols"
     ],
     "language": "python",
     "metadata": {},
     "outputs": [
      {
       "metadata": {},
       "output_type": "pyout",
       "prompt_number": 60,
       "text": [
        "['Key',\n",
        " 'RemoteAddr',\n",
        " 'GetTime',\n",
        " 'TrackData.ASN',\n",
        " 'TrackData.ASNAloc',\n",
        " 'TrackData.ASNBGP',\n",
        " 'TrackData.ASNCC',\n",
        " 'TrackData.ASNDsc',\n",
        " 'TrackData.ASNReg',\n",
        " 'TrackData.DevKey',\n",
        " 'TrackData.Fathom',\n",
        " 'TrackData.Flash',\n",
        " 'TrackData.FlashVersion',\n",
        " 'TrackData.Mobile',\n",
        " 'TrackData.Platform',\n",
        " 'TrackData.PlatformVersion',\n",
        " 'TrackData.Product',\n",
        " 'TrackData.ProductVersion',\n",
        " 'TrackData.Referer',\n",
        " 'TrackData.RemoteAddr',\n",
        " 'TrackData.Renderer',\n",
        " 'TrackData.RendererVersion',\n",
        " 'TrackData.RequestID',\n",
        " 'TrackData.RequestTime',\n",
        " 'TrackData.TestForm',\n",
        " 'TrackData.Xhr2',\n",
        " 'LatencyData.Max',\n",
        " 'LatencyData.Min',\n",
        " 'LatencyData.Med',\n",
        " 'LatencyData.Mean',\n",
        " 'LatencyData.StdDev',\n",
        " 'LatencyData.Sum',\n",
        " 'LatencyData.Len',\n",
        " 'ThroughputData.Max',\n",
        " 'ThroughputData.Min',\n",
        " 'ThroughputData.Med',\n",
        " 'ThroughputData.Mean',\n",
        " 'ThroughputData.StdDev',\n",
        " 'ThroughputData.Sum',\n",
        " 'ThroughputData.Len',\n",
        " 'PerfData.JsHeapSizeLimit',\n",
        " 'PerfData.TotalJSHeapSize',\n",
        " 'PerfData.UsedJSHeapSize',\n",
        " 'PerfData.RedirectCount',\n",
        " 'PerfData.Type',\n",
        " 'PerfData.Connection',\n",
        " 'PerfData.DomComplete',\n",
        " 'PerfData.DomContentLoadedEvent',\n",
        " 'PerfData.DomInteractive',\n",
        " 'PerfData.DomLoading',\n",
        " 'PerfData.DomainLookup',\n",
        " 'PerfData.Fetch',\n",
        " 'PerfData.LoadEvent',\n",
        " 'PerfData.NavigationStart',\n",
        " 'PerfData.Redirect',\n",
        " 'PerfData.Request',\n",
        " 'PerfData.Response',\n",
        " 'PerfData.SecureConnection',\n",
        " 'PerfData.UnloadEvent',\n",
        " 'PerfData.Network',\n",
        " 'PerfData.Processing',\n",
        " 'PcapData.RemoteAddr',\n",
        " 'PcapData.Server',\n",
        " 'PcapData.TestKey',\n",
        " 'PcapData.Captured',\n",
        " 'PcapData.Dropped',\n",
        " 'PcapData.IfDropped',\n",
        " 'PcapData.Received',\n",
        " 'PcapData.Error',\n",
        " 'PcapFlowStats.DstDupAck',\n",
        " 'PcapFlowStats.DstLoss',\n",
        " 'PcapFlowStats.DstLossBytes',\n",
        " 'PcapFlowStats.DstOrder',\n",
        " 'PcapFlowStats.DstOther',\n",
        " 'PcapFlowStats.SrcDupAck',\n",
        " 'PcapFlowStats.SrcLoss',\n",
        " 'PcapFlowStats.SrcLossBytes',\n",
        " 'PcapFlowStats.SrcOrder',\n",
        " 'PcapFlowStats.SrcOther',\n",
        " 'PcapTCPFlow.SrcBytes',\n",
        " 'PcapTCPFlow.DstBytes',\n",
        " 'PcapTCPFlow.SrcPLBytes',\n",
        " 'PcapTCPFlow.DstPLBytes',\n",
        " 'PcapTCPFlow.SrcWireBytes',\n",
        " 'PcapTCPFlow.DstWireBytes',\n",
        " 'PcapTCPFlow.SrcPktCnt',\n",
        " 'PcapTCPFlow.DstPktCnt',\n",
        " 'YouTubeStats.VideoID',\n",
        " 'YouTubeStats.PlayerVersion',\n",
        " 'YouTubeStats.Unstarted',\n",
        " 'YouTubeStats.Cued',\n",
        " 'YouTubeStats.Buffering',\n",
        " 'YouTubeStats.Playing',\n",
        " 'YouTubeStats.Paused',\n",
        " 'YouTubeStats.Ended',\n",
        " 'YouTubeStats.TotalTime',\n",
        " 'YouTubeStats.AvgQuality',\n",
        " 'YouTubeStats.JoinTime',\n",
        " 'YouTubeStats.PlayRatio',\n",
        " 'YouTubeStats.BuffTotal',\n",
        " 'YouTubeStats.BuffRatio',\n",
        " 'YouTubeStats.BuffCount',\n",
        " 'YouTubeStats.BuffRate',\n",
        " 'PostTime',\n",
        " 'UserID',\n",
        " 'Country',\n",
        " 'Region',\n",
        " 'City',\n",
        " 'Latitude',\n",
        " 'Longitude',\n",
        " 'DevKey',\n",
        " 'TestForm',\n",
        " 'AppVersionID',\n",
        " 'RequestID',\n",
        " 'TestError',\n",
        " 'TestDataKey',\n",
        " 'Unnamed: 16']"
       ]
      }
     ],
     "prompt_number": 60
    },
    {
     "cell_type": "code",
     "collapsed": false,
     "input": [
      "buffRatio['YouTubeStats.BuffRatio'] = buffRatio['YouTubeStats.BuffRatio'].apply(lambda x: np.float(x))\n",
      "#meanThroughputs = np.asarray(df['ThroughputData.Mean'].apply(lambda x: -1 if np.isnan(x) or np.isinf(x) or x < 0 else x))\n",
      "brts = np.asarray(buffRatio['YouTubeStats.BuffRatio'].apply(lambda x: -1 if np.isnan(x) or np.isinf(x) or x < 0 else x))"
     ],
     "language": "python",
     "metadata": {},
     "outputs": [],
     "prompt_number": 53
    },
    {
     "cell_type": "code",
     "collapsed": false,
     "input": [
      "#CDF of Buffer Ratios\n",
      "sbrts = sorted(brts.tolist())\n",
      "\n",
      "num_bins = 20\n",
      "counts, bin_edges = np.histogram(sbrts, bins=num_bins, normed=True)\n",
      "print counts\n",
      "cdf = np.cumsum(counts)\n",
      "plt.plot(bin_edges[1:], cdf)"
     ],
     "language": "python",
     "metadata": {},
     "outputs": [
      {
       "output_type": "stream",
       "stream": "stdout",
       "text": [
        "[ 20.87703818   5.34866268   2.24298757   0.86268753   0.69015002\n",
        "   0.34507501   0.17253751   0.17253751   0.17253751   0.           0.17253751\n",
        "   0.           0.           0.17253751   0.           0.           0.           0.\n",
        "   0.17253751   0.34507501]\n"
       ]
      },
      {
       "metadata": {},
       "output_type": "pyout",
       "prompt_number": 55,
       "text": [
        "[<matplotlib.lines.Line2D at 0x7fccb060d610>]"
       ]
      },
      {
       "metadata": {},
       "output_type": "display_data",
       "png": "[encoded data removed]",
       "text": [
        "<matplotlib.figure.Figure at 0x7fccb06af0d0>"
       ]
      }
     ],
     "prompt_number": 55
    },
    {
     "cell_type": "code",
     "collapsed": false,
     "input": [],
     "language": "python",
     "metadata": {},
     "outputs": []
    }
   ],
   "metadata": {}
  }
 ]
}