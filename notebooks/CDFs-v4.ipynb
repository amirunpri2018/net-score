{
 "cells": [
  {
   "cell_type": "code",
   "execution_count": 1,
   "metadata": {
    "collapsed": false
   },
   "outputs": [],
   "source": [
    "import seaborn as sns\n",
    "import numpy as np\n",
    "import pandas as pd\n",
    "import matplotlib\n",
    "\n",
    "from bisect import bisect_left\n",
    "from scipy.stats import norm, cumfreq\n",
    "import matplotlib.pyplot as plt"
   ]
  },
  {
   "cell_type": "code",
   "execution_count": 2,
   "metadata": {
    "collapsed": false
   },
   "outputs": [
    {
     "name": "stdout",
     "output_type": "stream",
     "text": [
      "master_2013.csv  master_2014.csv  master.csv  simple_combined.csv\r\n"
     ]
    }
   ],
   "source": [
    "!ls ../data"
   ]
  },
  {
   "cell_type": "code",
   "execution_count": 3,
   "metadata": {
    "collapsed": false
   },
   "outputs": [
    {
     "name": "stderr",
     "output_type": "stream",
     "text": [
      "/playpen/anaconda/lib/python2.7/site-packages/pandas/io/parsers.py:1159: DtypeWarning: Columns (10,11,13,25,87,88,104) have mixed types. Specify dtype option on import or set low_memory=False.\n",
      "  data = self._reader.read(nrows)\n"
     ]
    }
   ],
   "source": [
    "df = pd.read_csv('../data/master_2014.csv')\n",
    "\n",
    "# First float all values in throughput and latency columns\n",
    "df['ThroughputData.Mean'] = df['ThroughputData.Mean'].apply(lambda x: np.float64(x))\n",
    "df['LatencyData.Mean'] = df['LatencyData.Mean'].apply(lambda x: np.float64(x))\n",
    "df['ThroughputData.Med'] = df['ThroughputData.Med'].apply(lambda x: np.float64(x))\n",
    "df['LatencyData.Med'] = df['LatencyData.Med'].apply(lambda x: np.float64(x))"
   ]
  },
  {
   "cell_type": "code",
   "execution_count": 4,
   "metadata": {
    "collapsed": false
   },
   "outputs": [
    {
     "name": "stdout",
     "output_type": "stream",
     "text": [
      "<class 'pandas.core.frame.DataFrame'>\n",
      "Int64Index: 194239 entries, 0 to 194238\n",
      "Columns: 117 entries, Key to Unnamed: 16\n",
      "dtypes: float64(79), object(38)\n",
      "memory usage: 174.9+ MB\n"
     ]
    },
    {
     "data": {
      "text/plain": [
       "0    1.404963\n",
       "1    5.867318\n",
       "2    1.889566\n",
       "3    0.463903\n",
       "4    9.881799\n",
       "Name: ThroughputData.Med, dtype: float64"
      ]
     },
     "execution_count": 4,
     "metadata": {},
     "output_type": "execute_result"
    }
   ],
   "source": [
    "import statsmodels.api as sm # recommended import according to the docs\n",
    "\n",
    "%matplotlib inline\n",
    "\n",
    "df.info()\n",
    "df['ThroughputData.Med'].head()"
   ]
  },
  {
   "cell_type": "code",
   "execution_count": 5,
   "metadata": {
    "collapsed": false
   },
   "outputs": [],
   "source": [
    "medianLatencies = np.asarray(df['LatencyData.Med'].apply(lambda x: -1 if np.isnan(x) or np.isinf(x) or x > 500 else x))\n",
    "clean = []\n",
    "for ml in medianLatencies:\n",
    "    if ml > 0:\n",
    "        clean.append(ml)\n",
    "sml = sorted(clean)\n",
    "\n",
    "ecdf = sm.distributions.ECDF(sml)\n",
    "\n",
    "med_lat_x = np.linspace(min(sml), max(sml))\n",
    "med_lat_y = ecdf(med_lat_x)"
   ]
  },
  {
   "cell_type": "code",
   "execution_count": 6,
   "metadata": {
    "collapsed": true
   },
   "outputs": [],
   "source": [
    "meanLatencies = np.asarray(df['LatencyData.Mean'].apply(lambda x: -1 if np.isnan(x) or np.isinf(x) or x > 1000 else x))\n",
    "clean1 = []\n",
    "for meanl in meanLatencies:\n",
    "    if meanl > 0:\n",
    "        clean1.append(meanl)\n",
    "smeanl = sorted(clean1)\n",
    "\n",
    "ecdf = sm.distributions.ECDF(smeanl)\n",
    "\n",
    "mean_lat_x = np.linspace(min(smeanl), max(smeanl))\n",
    "mean_lat_y = ecdf(mean_lat_x)"
   ]
  },
  {
   "cell_type": "code",
   "execution_count": 7,
   "metadata": {
    "collapsed": false
   },
   "outputs": [],
   "source": [
    "medThru = np.asarray(df['ThroughputData.Med'].apply(lambda x: -1 if np.isnan(x) or np.isinf(x) or x > 100 else x))\n",
    "clean2 = []\n",
    "for medt in medThru:\n",
    "    if medt > 0:\n",
    "        clean2.append(medt)\n",
    "smedthru = sorted(clean2)\n",
    "\n",
    "ecdf = sm.distributions.ECDF(smedthru)\n",
    "\n",
    "med_thru_x = np.linspace(min(smedthru), max(smedthru))\n",
    "med_thru_y = ecdf(med_thru_x)"
   ]
  },
  {
   "cell_type": "code",
   "execution_count": 8,
   "metadata": {
    "collapsed": true
   },
   "outputs": [],
   "source": [
    "meanThru = np.asarray(df['ThroughputData.Mean'].apply(lambda x: -1 if np.isnan(x) or np.isinf(x) or x > 100 else x))\n",
    "clean3 = []\n",
    "for meant in meanThru:\n",
    "    if meant > 0:\n",
    "        clean3.append(meant)\n",
    "smeanthru = sorted(clean3)\n",
    "\n",
    "ecdf = sm.distributions.ECDF(smeanthru)\n",
    "\n",
    "mean_thru_x = np.linspace(min(smeanthru), max(smeanthru))\n",
    "mean_thru_y = ecdf(mean_thru_x)"
   ]
  },
  {
   "cell_type": "code",
   "execution_count": 13,
   "metadata": {
    "collapsed": false
   },
   "outputs": [
    {
     "data": {
      "text/plain": [
       "<matplotlib.text.Text at 0x7f3c75857910>"
      ]
     },
     "execution_count": 13,
     "metadata": {},
     "output_type": "execute_result"
    },
    {
     "data": {
      "image/png": "[encoded data removed]",
      "text/plain": [
       "<matplotlib.figure.Figure at 0x7f3c74ce16d0>"
      ]
     },
     "metadata": {},
     "output_type": "display_data"
    }
   ],
   "source": [
    "sns.set_context(\"talk\",rc={\"figure.figsize\": (12, 6)})\n",
    "sns.axes_style(\"darkgrid\",{\"grid.linewidth\": .5})\n",
    "plt.plot(med_thru_x, med_thru_y)\n",
    "#plt.title(\"CDF of Median Latencies\", fontsize=20)\n",
    "plt.xlabel(\"Throughput (Mb/s)\", fontsize=20)\n",
    "\n",
    "# for label in (ax0.get_xticklabels() + ax0.get_yticklabels() + ax1.get_xticklabels() + ax1.get_yticklabels()):\n",
    "#     label.set_fontsize(15)"
   ]
  },
  {
   "cell_type": "code",
   "execution_count": 10,
   "metadata": {
    "collapsed": false
   },
   "outputs": [
    {
     "ename": "NameError",
     "evalue": "name 'ax0' is not defined",
     "output_type": "error",
     "traceback": [
      "\u001b[1;31m---------------------------------------------------------------------------\u001b[0m",
      "\u001b[1;31mNameError\u001b[0m                                 Traceback (most recent call last)",
      "\u001b[1;32m<ipython-input-10-96664555cf04>\u001b[0m in \u001b[0;36m<module>\u001b[1;34m()\u001b[0m\n\u001b[0;32m      9\u001b[0m \u001b[1;31m# ax1.set_xlabel(\"Latency (ms)\", fontsize=20)\u001b[0m\u001b[1;33m\u001b[0m\u001b[1;33m\u001b[0m\u001b[0m\n\u001b[0;32m     10\u001b[0m \u001b[1;33m\u001b[0m\u001b[0m\n\u001b[1;32m---> 11\u001b[1;33m \u001b[1;32mfor\u001b[0m \u001b[0mlabel\u001b[0m \u001b[1;32min\u001b[0m \u001b[1;33m(\u001b[0m\u001b[0max0\u001b[0m\u001b[1;33m.\u001b[0m\u001b[0mget_xticklabels\u001b[0m\u001b[1;33m(\u001b[0m\u001b[1;33m)\u001b[0m \u001b[1;33m+\u001b[0m \u001b[0max0\u001b[0m\u001b[1;33m.\u001b[0m\u001b[0mget_yticklabels\u001b[0m\u001b[1;33m(\u001b[0m\u001b[1;33m)\u001b[0m \u001b[1;33m+\u001b[0m \u001b[0max1\u001b[0m\u001b[1;33m.\u001b[0m\u001b[0mget_xticklabels\u001b[0m\u001b[1;33m(\u001b[0m\u001b[1;33m)\u001b[0m \u001b[1;33m+\u001b[0m \u001b[0max1\u001b[0m\u001b[1;33m.\u001b[0m\u001b[0mget_yticklabels\u001b[0m\u001b[1;33m(\u001b[0m\u001b[1;33m)\u001b[0m\u001b[1;33m)\u001b[0m\u001b[1;33m:\u001b[0m\u001b[1;33m\u001b[0m\u001b[0m\n\u001b[0m\u001b[0;32m     12\u001b[0m     \u001b[0mlabel\u001b[0m\u001b[1;33m.\u001b[0m\u001b[0mset_fontsize\u001b[0m\u001b[1;33m(\u001b[0m\u001b[1;36m15\u001b[0m\u001b[1;33m)\u001b[0m\u001b[1;33m\u001b[0m\u001b[0m\n\u001b[0;32m     13\u001b[0m \u001b[1;33m\u001b[0m\u001b[0m\n",
      "\u001b[1;31mNameError\u001b[0m: name 'ax0' is not defined"
     ]
    }
   ],
   "source": [
    "# fig, axes = plt.figsize=(15,5))\n",
    "\n",
    "# line_med = ax0.plot(med_lat_x, med_lat_y)\n",
    "# ax0.set_title(\"CDF of Median Latencies\", fontsize=20)\n",
    "# ax0.set_xlabel(\"Latency (ms)\", fontsize=20)\n",
    "\n",
    "# line_mean = ax1.plot(mean_lat_x, mean_lat_y)\n",
    "# ax1.set_title(\"CDF of Mean Latencies\", fontsize=20)\n",
    "# ax1.set_xlabel(\"Latency (ms)\", fontsize=20)\n",
    "\n",
    "for label in (ax0.get_xticklabels() + ax0.get_yticklabels() + ax1.get_xticklabels() + ax1.get_yticklabels()):\n",
    "    label.set_fontsize(15)\n",
    "\n",
    "fig.show()"
   ]
  },
  {
   "cell_type": "code",
   "execution_count": null,
   "metadata": {
    "collapsed": false
   },
   "outputs": [],
   "source": [
    "print \"Median latency: \", np.median(df['LatencyData.Med'])\n",
    "print \"Mean latency: \", np.mean(meanLatencies) #Data skewed by outliers\n",
    "\n",
    "print med_lat_x\n",
    "print med_lat_y"
   ]
  },
  {
   "cell_type": "code",
   "execution_count": null,
   "metadata": {
    "collapsed": false
   },
   "outputs": [],
   "source": [
    "fig, axes = plt.subplots(nrows=1, ncols=2, figsize=(15,5))\n",
    "ax0, ax1 = axes.flat\n",
    "\n",
    "ax0.plot(med_thru_x, med_thru_y)\n",
    "ax0.set_title(\"CDF of Median Throughputs\", fontsize=20)\n",
    "ax0.set_xlabel(\"Throughput (Mb/s)\", fontsize=20)\n",
    "\n",
    "ax1.plot(mean_thru_x, mean_thru_y)\n",
    "ax1.set_title(\"CDF of Mean Throughputs\", fontsize=20)\n",
    "ax1.set_xlabel(\"Throughput (Mb/s)\", fontsize=20)\n",
    "\n",
    "for label in (ax0.get_xticklabels() + ax0.get_yticklabels() + ax1.get_xticklabels() + ax1.get_yticklabels()):\n",
    "    label.set_fontsize(15)\n",
    "\n",
    "fig.show()"
   ]
  },
  {
   "cell_type": "code",
   "execution_count": null,
   "metadata": {
    "collapsed": false
   },
   "outputs": [],
   "source": [
    "print \"Median throughput: \", np.median(df['ThroughputData.Med'])\n",
    "print \"Mean throughput: \", np.mean(meanThru) #Data skewed by outliers"
   ]
  },
  {
   "cell_type": "code",
   "execution_count": null,
   "metadata": {
    "collapsed": false
   },
   "outputs": [],
   "source": [
    "df2013 = pd.read_csv('../data/master_2013.csv')\n",
    "buffRatio = df2013[np.isfinite(df2013['YouTubeStats.BuffRatio'])]\n",
    "cols = buffRatio.columns.tolist()\n",
    "buffRatio['YouTubeStats.BuffRatio'].head()"
   ]
  },
  {
   "cell_type": "code",
   "execution_count": null,
   "metadata": {
    "collapsed": false
   },
   "outputs": [],
   "source": [
    "buffRatio['YouTubeStats.BuffRatio'] = buffRatio['YouTubeStats.BuffRatio'].apply(lambda x: np.float(x))\n",
    "#meanThroughputs = np.asarray(df['ThroughputData.Mean'].apply(lambda x: -1 if np.isnan(x) or np.isinf(x) or x < 0 else x))\n",
    "brts = np.asarray(buffRatio['YouTubeStats.BuffRatio'].apply(lambda x: -1 if np.isnan(x) or np.isinf(x) or x < 0 else x))"
   ]
  },
  {
   "cell_type": "code",
   "execution_count": null,
   "metadata": {
    "collapsed": false
   },
   "outputs": [],
   "source": [
    "brts"
   ]
  },
  {
   "cell_type": "code",
   "execution_count": null,
   "metadata": {
    "collapsed": false
   },
   "outputs": [],
   "source": [
    "clean4 = []\n",
    "for b in brts:\n",
    "    if b > 0:\n",
    "        clean4.append(b)\n",
    "sbrts = sorted(clean4)\n",
    "\n",
    "ecdf = sm.distributions.ECDF(sbrts)\n",
    "\n",
    "brts_x = np.linspace(min(sbrts), max(sbrts))\n",
    "brts_y = ecdf(brts_x)"
   ]
  },
  {
   "cell_type": "code",
   "execution_count": null,
   "metadata": {
    "collapsed": false
   },
   "outputs": [],
   "source": [
    "plt.plot(brts_x, brts_y)\n",
    "\n",
    "plt.xlabel('Buffer Ratio')\n",
    "plt.title('CDF of Buffer Ratios measured in 2013 net-score NSDT tests')\n",
    "plt.grid(True)\n",
    "plt.show()"
   ]
  },
  {
   "cell_type": "code",
   "execution_count": null,
   "metadata": {
    "collapsed": true
   },
   "outputs": [],
   "source": []
  }
 ],
 "metadata": {
  "kernelspec": {
   "display_name": "Python 2",
   "language": "python",
   "name": "python2"
  },
  "language_info": {
   "codemirror_mode": {
    "name": "ipython",
    "version": 2
   },
   "file_extension": ".py",
   "mimetype": "text/x-python",
   "name": "python",
   "nbconvert_exporter": "python",
   "pygments_lexer": "ipython2",
   "version": "2.7.9"
  }
 },
 "nbformat": 4,
 "nbformat_minor": 0
}
