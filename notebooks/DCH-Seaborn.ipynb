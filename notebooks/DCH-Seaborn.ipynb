{
 "cells": [
  {
   "cell_type": "code",
   "execution_count": 1,
   "metadata": {
    "collapsed": false
   },
   "outputs": [
    {
     "name": "stderr",
     "output_type": "stream",
     "text": [
      "/playpen/anaconda/lib/python2.7/site-packages/pandas/io/parsers.py:1159: DtypeWarning: Columns (10,11,13,25,87,88,104) have mixed types. Specify dtype option on import or set low_memory=False.\n",
      "  data = self._reader.read(nrows)\n",
      "/playpen/anaconda/lib/python2.7/site-packages/pandas/io/parsers.py:1159: DtypeWarning: Columns (10,11,13,25,61,62,63,68,87,88,104,114) have mixed types. Specify dtype option on import or set low_memory=False.\n",
      "  data = self._reader.read(nrows)\n"
     ]
    }
   ],
   "source": [
    "%matplotlib inline\n",
    "\n",
    "import numpy as np\n",
    "import pandas as pd\n",
    "import seaborn as sns\n",
    "from scipy import stats\n",
    "import matplotlib.pyplot as plt\n",
    "\n",
    "df2014 = pd.read_csv('../data/master_2014.csv')\n",
    "df2013 = pd.read_csv('../data/master_2013.csv')"
   ]
  },
  {
   "cell_type": "code",
   "execution_count": 2,
   "metadata": {
    "collapsed": true
   },
   "outputs": [],
   "source": [
    "# Apply lambda expressions to filter NaNs and infs\n",
    "\n",
    "# First float all values in throughput and latency columns\n",
    "df2014['ThroughputData.Mean'] = df2014['ThroughputData.Mean'].apply(lambda x: np.float64(x))\n",
    "df2014['LatencyData.Mean'] = df2014['LatencyData.Mean'].apply(lambda x: np.float64(x))\n",
    "df2014['ThroughputData.Med'] = df2014['ThroughputData.Med'].apply(lambda x: np.float64(x))\n",
    "df2014['LatencyData.Med'] = df2014['LatencyData.Med'].apply(lambda x: np.float64(x))\n",
    "\n",
    "# Set NaNs and infs to -1\n",
    "df2014['ThroughputData.Mean'] = df2014['ThroughputData.Mean'].apply(lambda x: -1 if np.isnan(x) or np.isinf(x) else x)\n",
    "df2014['LatencyData.Mean'] = df2014['LatencyData.Mean'].apply(lambda x: -1 if np.isnan(x) or np.isinf(x) or x > 1000 else x)\n",
    "df2014['ThroughputData.Med'] = df2014['ThroughputData.Med'].apply(lambda x: -1 if np.isnan(x) or np.isinf(x) else x)\n",
    "df2014['LatencyData.Med'] = df2014['LatencyData.Med'].apply(lambda x: -1 if np.isnan(x) or np.isinf(x) or x > 1000 else x)"
   ]
  },
  {
   "cell_type": "code",
   "execution_count": null,
   "metadata": {
    "collapsed": false
   },
   "outputs": [
    {
     "data": {
      "text/html": [
       "<div style=\"max-height:1000px;max-width:1500px;overflow:auto;\">\n",
       "<table border=\"1\" class=\"dataframe\">\n",
       "  <thead>\n",
       "    <tr style=\"text-align: right;\">\n",
       "      <th></th>\n",
       "      <th>Latency</th>\n",
       "      <th>Throughput</th>\n",
       "    </tr>\n",
       "  </thead>\n",
       "  <tbody>\n",
       "    <tr>\n",
       "      <th>0</th>\n",
       "      <td>  63.645570</td>\n",
       "      <td> 1.803618</td>\n",
       "    </tr>\n",
       "    <tr>\n",
       "      <th>1</th>\n",
       "      <td>  98.549020</td>\n",
       "      <td> 5.594545</td>\n",
       "    </tr>\n",
       "    <tr>\n",
       "      <th>2</th>\n",
       "      <td> 170.500000</td>\n",
       "      <td> 1.866618</td>\n",
       "    </tr>\n",
       "    <tr>\n",
       "      <th>3</th>\n",
       "      <td> 266.473684</td>\n",
       "      <td> 0.588762</td>\n",
       "    </tr>\n",
       "    <tr>\n",
       "      <th>4</th>\n",
       "      <td>  28.850000</td>\n",
       "      <td> 9.808814</td>\n",
       "    </tr>\n",
       "  </tbody>\n",
       "</table>\n",
       "</div>"
      ],
      "text/plain": [
       "      Latency  Throughput\n",
       "0   63.645570    1.803618\n",
       "1   98.549020    5.594545\n",
       "2  170.500000    1.866618\n",
       "3  266.473684    0.588762\n",
       "4   28.850000    9.808814"
      ]
     },
     "execution_count": 3,
     "metadata": {},
     "output_type": "execute_result"
    }
   ],
   "source": [
    "x = df2014['LatencyData.Mean']\n",
    "y = df2014['ThroughputData.Mean']\n",
    "\n",
    "df = pd.concat([x,y], axis=1, keys=[\"Latency\",\"Throughput\"])\n",
    "df.head()"
   ]
  },
  {
   "cell_type": "code",
   "execution_count": null,
   "metadata": {
    "collapsed": false
   },
   "outputs": [],
   "source": [
    "f, ax = plt.subplots(figsize=(12,8))\n",
    "sns.heatmap(df)"
   ]
  },
  {
   "cell_type": "code",
   "execution_count": null,
   "metadata": {
    "collapsed": true
   },
   "outputs": [],
   "source": []
  }
 ],
 "metadata": {
  "kernelspec": {
   "display_name": "Python 2",
   "language": "python",
   "name": "python2"
  },
  "language_info": {
   "codemirror_mode": {
    "name": "ipython",
    "version": 2
   },
   "file_extension": ".py",
   "mimetype": "text/x-python",
   "name": "python",
   "nbconvert_exporter": "python",
   "pygments_lexer": "ipython2",
   "version": "2.7.9"
  }
 },
 "nbformat": 4,
 "nbformat_minor": 0
}
