{
 "metadata": {
  "name": ""
 },
 "nbformat": 3,
 "nbformat_minor": 0,
 "worksheets": [
  {
   "cells": [
    {
     "cell_type": "code",
     "collapsed": false,
     "input": [
      "#!pip install --upgrade google-api-python-client\n",
      "!pip freeze | grep 'google'"
     ],
     "language": "python",
     "metadata": {},
     "outputs": [
      {
       "output_type": "stream",
       "stream": "stdout",
       "text": [
        "google-api-python-client==1.3.1\r\n"
       ]
      }
     ],
     "prompt_number": 3
    },
    {
     "cell_type": "code",
     "collapsed": false,
     "input": [
      "import httplib2\n",
      "import pprint\n",
      "import sys\n",
      "\n",
      "from apiclient.discovery import build\n",
      "from apiclient.errors import HttpError\n",
      "\n",
      "from oauth2client.client import OAuth2WebServerFlow\n",
      "from oauth2client.client import AccessTokenRefreshError\n",
      "from oauth2client.client import flow_from_clientsecrets\n",
      "from oauth2client.file import Storage\n",
      "from oauth2client.tools import run\n",
      "\n",
      "# Enter your Google Developer Project number\n",
      "PROJECT_NUMBER = 'XXXXXXXXXXXXX'\n",
      "FLOW = flow_from_clientsecrets('client_secrets.json',\n",
      "                               scope='https://www.googleapis.com/auth/bigquery')"
     ],
     "language": "python",
     "metadata": {},
     "outputs": []
    }
   ],
   "metadata": {}
  }
 ]
}