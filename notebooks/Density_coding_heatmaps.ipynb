{
 "metadata": {
  "name": "",
  "signature": "sha256:9bf7a543b094f51c276b2f7aeaa1cd43a182f182ba09efbc2874c14eecbb3488"
 },
 "nbformat": 3,
 "nbformat_minor": 0,
 "worksheets": [
  {
   "cells": [
    {
     "cell_type": "code",
     "collapsed": false,
     "input": [
      "%matplotlib inline\n",
      "\n",
      "import numpy as np\n",
      "import pandas as pd\n",
      "from scipy import stats\n",
      "import matplotlib.pyplot as plt"
     ],
     "language": "python",
     "metadata": {},
     "outputs": [],
     "prompt_number": 66
    },
    {
     "cell_type": "code",
     "collapsed": false,
     "input": [
      "!ls ../data"
     ],
     "language": "python",
     "metadata": {},
     "outputs": [
      {
       "output_type": "stream",
       "stream": "stdout",
       "text": [
        "master_2013.csv  master_2014.csv  master.csv  simple_combined.csv\r\n"
       ]
      }
     ],
     "prompt_number": 67
    },
    {
     "cell_type": "code",
     "collapsed": false,
     "input": [
      "df2014 = pd.read_csv('../data/master_2014.csv')\n",
      "df2013 = pd.read_csv('../data/master_2013.csv')"
     ],
     "language": "python",
     "metadata": {},
     "outputs": [],
     "prompt_number": 68
    },
    {
     "cell_type": "code",
     "collapsed": false,
     "input": [
      "df2014.info()\n",
      "df2013.info()\n",
      "\n",
      "df2014.head()\n",
      "cols = df2014.columns.tolist()\n",
      "cols"
     ],
     "language": "python",
     "metadata": {},
     "outputs": [
      {
       "output_type": "stream",
       "stream": "stdout",
       "text": [
        "<class 'pandas.core.frame.DataFrame'>\n",
        "Int64Index: 194239 entries, 0 to 194238\n",
        "Columns: 117 entries, Key to Unnamed: 16\n",
        "dtypes: float64(77), object(40)<class 'pandas.core.frame.DataFrame'>\n",
        "Int64Index: 67915 entries, 0 to 67914\n",
        "Columns: 117 entries, Key to Unnamed: 16\n",
        "dtypes: float64(73), object(44)"
       ]
      },
      {
       "metadata": {},
       "output_type": "pyout",
       "prompt_number": 69,
       "text": [
        "['Key',\n",
        " 'RemoteAddr',\n",
        " 'GetTime',\n",
        " 'TrackData.ASN',\n",
        " 'TrackData.ASNAloc',\n",
        " 'TrackData.ASNBGP',\n",
        " 'TrackData.ASNCC',\n",
        " 'TrackData.ASNDsc',\n",
        " 'TrackData.ASNReg',\n",
        " 'TrackData.DevKey',\n",
        " 'TrackData.Fathom',\n",
        " 'TrackData.Flash',\n",
        " 'TrackData.FlashVersion',\n",
        " 'TrackData.Mobile',\n",
        " 'TrackData.Platform',\n",
        " 'TrackData.PlatformVersion',\n",
        " 'TrackData.Product',\n",
        " 'TrackData.ProductVersion',\n",
        " 'TrackData.Referer',\n",
        " 'TrackData.RemoteAddr',\n",
        " 'TrackData.Renderer',\n",
        " 'TrackData.RendererVersion',\n",
        " 'TrackData.RequestID',\n",
        " 'TrackData.RequestTime',\n",
        " 'TrackData.TestForm',\n",
        " 'TrackData.Xhr2',\n",
        " 'LatencyData.Max',\n",
        " 'LatencyData.Min',\n",
        " 'LatencyData.Med',\n",
        " 'LatencyData.Mean',\n",
        " 'LatencyData.StdDev',\n",
        " 'LatencyData.Sum',\n",
        " 'LatencyData.Len',\n",
        " 'ThroughputData.Max',\n",
        " 'ThroughputData.Min',\n",
        " 'ThroughputData.Med',\n",
        " 'ThroughputData.Mean',\n",
        " 'ThroughputData.StdDev',\n",
        " 'ThroughputData.Sum',\n",
        " 'ThroughputData.Len',\n",
        " 'PerfData.JsHeapSizeLimit',\n",
        " 'PerfData.TotalJSHeapSize',\n",
        " 'PerfData.UsedJSHeapSize',\n",
        " 'PerfData.RedirectCount',\n",
        " 'PerfData.Type',\n",
        " 'PerfData.Connection',\n",
        " 'PerfData.DomComplete',\n",
        " 'PerfData.DomContentLoadedEvent',\n",
        " 'PerfData.DomInteractive',\n",
        " 'PerfData.DomLoading',\n",
        " 'PerfData.DomainLookup',\n",
        " 'PerfData.Fetch',\n",
        " 'PerfData.LoadEvent',\n",
        " 'PerfData.NavigationStart',\n",
        " 'PerfData.Redirect',\n",
        " 'PerfData.Request',\n",
        " 'PerfData.Response',\n",
        " 'PerfData.SecureConnection',\n",
        " 'PerfData.UnloadEvent',\n",
        " 'PerfData.Network',\n",
        " 'PerfData.Processing',\n",
        " 'PcapData.RemoteAddr',\n",
        " 'PcapData.Server',\n",
        " 'PcapData.TestKey',\n",
        " 'PcapData.Captured',\n",
        " 'PcapData.Dropped',\n",
        " 'PcapData.IfDropped',\n",
        " 'PcapData.Received',\n",
        " 'PcapData.Error',\n",
        " 'PcapFlowStats.DstDupAck',\n",
        " 'PcapFlowStats.DstLoss',\n",
        " 'PcapFlowStats.DstLossBytes',\n",
        " 'PcapFlowStats.DstOrder',\n",
        " 'PcapFlowStats.DstOther',\n",
        " 'PcapFlowStats.SrcDupAck',\n",
        " 'PcapFlowStats.SrcLoss',\n",
        " 'PcapFlowStats.SrcLossBytes',\n",
        " 'PcapFlowStats.SrcOrder',\n",
        " 'PcapFlowStats.SrcOther',\n",
        " 'PcapTCPFlow.SrcBytes',\n",
        " 'PcapTCPFlow.DstBytes',\n",
        " 'PcapTCPFlow.SrcPLBytes',\n",
        " 'PcapTCPFlow.DstPLBytes',\n",
        " 'PcapTCPFlow.SrcWireBytes',\n",
        " 'PcapTCPFlow.DstWireBytes',\n",
        " 'PcapTCPFlow.SrcPktCnt',\n",
        " 'PcapTCPFlow.DstPktCnt',\n",
        " 'YouTubeStats.VideoID',\n",
        " 'YouTubeStats.PlayerVersion',\n",
        " 'YouTubeStats.Unstarted',\n",
        " 'YouTubeStats.Cued',\n",
        " 'YouTubeStats.Buffering',\n",
        " 'YouTubeStats.Playing',\n",
        " 'YouTubeStats.Paused',\n",
        " 'YouTubeStats.Ended',\n",
        " 'YouTubeStats.TotalTime',\n",
        " 'YouTubeStats.AvgQuality',\n",
        " 'YouTubeStats.JoinTime',\n",
        " 'YouTubeStats.PlayRatio',\n",
        " 'YouTubeStats.BuffTotal',\n",
        " 'YouTubeStats.BuffRatio',\n",
        " 'YouTubeStats.BuffCount',\n",
        " 'YouTubeStats.BuffRate',\n",
        " 'PostTime',\n",
        " 'UserID',\n",
        " 'Country',\n",
        " 'Region',\n",
        " 'City',\n",
        " 'Latitude',\n",
        " 'Longitude',\n",
        " 'DevKey',\n",
        " 'TestForm',\n",
        " 'AppVersionID',\n",
        " 'RequestID',\n",
        " 'TestError',\n",
        " 'TestDataKey',\n",
        " 'Unnamed: 16']"
       ]
      }
     ],
     "prompt_number": 69
    },
    {
     "cell_type": "code",
     "collapsed": false,
     "input": [
      "throughput2014med = df2014['ThroughputData.Med'].values\n",
      "latency2014med = df2014['LatencyData.Mean'].values\n",
      "\n",
      "throughput2014mean = df2014['ThroughputData.Mean'].values\n",
      "latency2014mean = df2014['LatencyData.Mean'].values\n",
      "\n",
      "throughput2013med = df2013['ThroughputData.Med'].values\n",
      "latency2013med = df2013['LatencyData.Mean'].values"
     ],
     "language": "python",
     "metadata": {},
     "outputs": [],
     "prompt_number": 70
    },
    {
     "cell_type": "code",
     "collapsed": false,
     "input": [
      "print len(latency2014mean), len(throughput2014mean)"
     ],
     "language": "python",
     "metadata": {},
     "outputs": [
      {
       "output_type": "stream",
       "stream": "stdout",
       "text": [
        "194239 194239\n"
       ]
      }
     ],
     "prompt_number": 71
    },
    {
     "cell_type": "code",
     "collapsed": false,
     "input": [
      "tuples = []\n",
      "for i in range(len(latency2014med)):\n",
      "    latency = float(latency2014med[i])\n",
      "    throughput = float(throughput2014med[i])\n",
      "    if np.isfinite(latency) and np.isfinite(throughput) and latency > 0 and latency < 250 and throughput > 0:\n",
      "        tuples.append((latency,throughput))\n",
      "        \n",
      "medtups = np.asarray(tuples, dtype=np.float64)"
     ],
     "language": "python",
     "metadata": {},
     "outputs": [],
     "prompt_number": 72
    },
    {
     "cell_type": "code",
     "collapsed": false,
     "input": [
      "tuples = []\n",
      "for i in range(len(latency2014mean)):\n",
      "    latency = float(latency2014mean[i])\n",
      "    throughput = float(throughput2014mean[i])\n",
      "    if np.isfinite(latency) and np.isfinite(throughput) and latency > 0 and latency < 250 and throughput > 0:\n",
      "        tuples.append((latency,throughput))\n",
      "        \n",
      "meantups = np.asarray(tuples, dtype=np.float64)"
     ],
     "language": "python",
     "metadata": {},
     "outputs": [],
     "prompt_number": 73
    },
    {
     "cell_type": "code",
     "collapsed": false,
     "input": [
      "mean_delay = np.mean(medtups[:,0])\n",
      "std_delay = np.std(medtups[:,0])\n",
      "\n",
      "#Mean of means\n",
      "mean_delayme = np.mean(meantups[:,0])\n",
      "std_delayme = np.std(meantups[:,0])\n",
      "\n",
      "print \"=====\"\n",
      "print mean_delay, std_delay\n",
      "print \"=====\"\n",
      "print len(meantups), len(medtups)"
     ],
     "language": "python",
     "metadata": {},
     "outputs": [
      {
       "output_type": "stream",
       "stream": "stdout",
       "text": [
        "=====\n",
        "83.5666765141 52.9062443262\n",
        "=====\n",
        "165852 167276\n"
       ]
      }
     ],
     "prompt_number": 74
    },
    {
     "cell_type": "code",
     "collapsed": false,
     "input": [
      "fig = plt.figure()\n",
      "ax = fig.add_subplot(111)\n",
      "\n",
      "ax.scatter(medtups[:,0],medtups[:,1], color='blue',s=3)\n",
      "\n",
      "ax.set_ylim([0,1400])\n",
      "ax.set_xlim([0,250])\n",
      "ax.grid(True,linestyle='-',color='0.75')\n",
      "\n",
      "ax.set_ylabel('Median Throughput (Mb/s)')\n",
      "ax.set_xlabel('Mean Delay (ms)')\n",
      "ax.set_title('Median Throughput vs. Delay of 2014 net-score tests')\n",
      "\n",
      "plt.show()"
     ],
     "language": "python",
     "metadata": {},
     "outputs": [
      {
       "metadata": {},
       "output_type": "display_data",
       "png": "[encoded data removed]",
       "text": [
        "<matplotlib.figure.Figure at 0x7fe1eccc6950>"
       ]
      }
     ],
     "prompt_number": 75
    },
    {
     "cell_type": "code",
     "collapsed": false,
     "input": [
      "#Figure for throughputs under 1Gb/s\n",
      "\n",
      "fig = plt.figure()\n",
      "ax = fig.add_subplot(111)\n",
      "\n",
      "ax.scatter(medtups[:,0],medtups[:,1], color='blue',s=3)\n",
      "\n",
      "ax.set_ylim([0,1000])\n",
      "ax.set_xlim([0,250])\n",
      "ax.grid(True,linestyle='-',color='0.75')\n",
      "\n",
      "ax.set_ylabel('Median Throughput (Mb/s)')\n",
      "ax.set_xlabel('Mean Delay (ms)')\n",
      "ax.set_title('Median Throughput vs. Delay of 2014 net-score tests')\n",
      "\n",
      "plt.show()"
     ],
     "language": "python",
     "metadata": {},
     "outputs": [
      {
       "metadata": {},
       "output_type": "display_data",
       "png": "[encoded data removed]",
       "text": [
        "<matplotlib.figure.Figure at 0x7fe1eb888590>"
       ]
      }
     ],
     "prompt_number": 76
    },
    {
     "cell_type": "code",
     "collapsed": false,
     "input": [
      "fig = plt.figure()\n",
      "ax = fig.add_subplot(111)\n",
      "\n",
      "ax.scatter(meantups[:,0],meantups[:,1], color='red',s=3)\n",
      "\n",
      "ax.set_ylim([0,1400])\n",
      "ax.set_xlim([0,250])\n",
      "ax.grid(True,linestyle='-',color='0.75')\n",
      "\n",
      "ax.set_ylabel('Mean Throughput (Mb/s)')\n",
      "ax.set_xlabel('Mean Delay (ms)')\n",
      "ax.set_title('Throughput vs. Delay of 2014 net-score tests')\n",
      "\n",
      "plt.show()"
     ],
     "language": "python",
     "metadata": {},
     "outputs": [
      {
       "metadata": {},
       "output_type": "display_data",
       "png": "[encoded data removed]",
       "text": [
        "<matplotlib.figure.Figure at 0x7fe1ee7d8790>"
       ]
      }
     ],
     "prompt_number": 77
    },
    {
     "cell_type": "code",
     "collapsed": false,
     "input": [
      "fig = plt.figure()\n",
      "ax = fig.add_subplot(111)\n",
      "\n",
      "ax.scatter(meantups[:,0],meantups[:,1], color='red',s=3)\n",
      "\n",
      "ax.set_ylim([0,1000])\n",
      "ax.set_xlim([0,250])\n",
      "ax.grid(True,linestyle='-',color='0.75')\n",
      "\n",
      "ax.set_ylabel('Mean Throughput (Mb/s)')\n",
      "ax.set_xlabel('Mean Delay (ms)')\n",
      "ax.set_title('Throughput vs. Delay of 2014 net-score tests')\n",
      "\n",
      "plt.show()"
     ],
     "language": "python",
     "metadata": {},
     "outputs": [
      {
       "metadata": {},
       "output_type": "display_data",
       "png": "[encoded data removed]",
       "text": [
        "<matplotlib.figure.Figure at 0x7fe1f68890d0>"
       ]
      }
     ],
     "prompt_number": 78
    },
    {
     "cell_type": "code",
     "collapsed": false,
     "input": [
      "# throughput2014med = df2014['ThroughputData.Med'].values\n",
      "# latency2014med = df2014['LatencyData.Mean'].values\n",
      "\n",
      "# throughput2014mean = df2014['ThroughputData.Mean'].values\n",
      "# latency2014mean = df2014['LatencyData.Mean'].values\n",
      "\n",
      "# throughput2013med = df2013['ThroughputData.Med'].values\n",
      "# latency2013med = df2013['LatencyData.Mean'].values\n",
      "\n",
      "print len(latency2014mean), len(throughput2014med)"
     ],
     "language": "python",
     "metadata": {},
     "outputs": [
      {
       "output_type": "stream",
       "stream": "stdout",
       "text": [
        "194239 194239\n"
       ]
      }
     ],
     "prompt_number": 79
    },
    {
     "cell_type": "code",
     "collapsed": false,
     "input": [
      "import pylab\n",
      "pylab.rcParams['figure.figsize'] = (12.0, 8.0)\n",
      "\n",
      "x = meantups[:,0]\n",
      "y = meantups[:,1]\n",
      "r = [[0, 150],[0,100]]\n",
      "\n",
      "fig, ax = plt.subplots()\n",
      "ax.set_yscale('log')\n",
      "ax.set_xscale('log')\n",
      "im = ax.hist2d(x, y, bins=30, norm=mpl.colors.LogNorm(), cmap=mpl.cm.YlOrRd)\n",
      "fig.colorbar(im[3],ax=ax)\n",
      "\n",
      "plt.title('Mean Delay vs. Mean Throughput of 2014 net-score Tests')\n",
      "plt.xlabel('Mean Delay (ms)')\n",
      "plt.ylabel('Mean Throughput (Mb/s)')\n",
      "plt.show()"
     ],
     "language": "python",
     "metadata": {},
     "outputs": [
      {
       "metadata": {},
       "output_type": "display_data",
       "png": "[encoded data removed]",
       "text": [
        "<matplotlib.figure.Figure at 0x7fe1eb81fa10>"
       ]
      }
     ],
     "prompt_number": 80
    },
    {
     "cell_type": "code",
     "collapsed": false,
     "input": [
      "x = pd.Series(medtups[:,0])\n",
      "x_inter = x.interpolate(method='values')\n",
      "x_inter"
     ],
     "language": "python",
     "metadata": {},
     "outputs": [
      {
       "metadata": {},
       "output_type": "pyout",
       "prompt_number": 81,
       "text": [
        "0      63.645570\n",
        "1      98.549020\n",
        "2     170.500000\n",
        "3      28.850000\n",
        "4      93.685185\n",
        "5     202.480000\n",
        "6      91.945455\n",
        "7     170.833333\n",
        "8      64.333333\n",
        "9     206.560000\n",
        "10     91.581818\n",
        "11     55.274725\n",
        "12     83.600000\n",
        "13    133.500000\n",
        "14     75.878788\n",
        "...\n",
        "167261     79.857143\n",
        "167262    201.440000\n",
        "167263    102.632653\n",
        "167264    106.723404\n",
        "167265     97.288462\n",
        "167266    224.956522\n",
        "167267    146.228571\n",
        "167268     44.200000\n",
        "167269     76.015152\n",
        "167270    119.581395\n",
        "167271     80.983871\n",
        "167272     50.340000\n",
        "167273     40.130000\n",
        "167274     88.385965\n",
        "167275    226.652174\n",
        "Length: 167276, dtype: float64"
       ]
      }
     ],
     "prompt_number": 81
    },
    {
     "cell_type": "code",
     "collapsed": false,
     "input": [
      "df2014['ThroughputData.Mean'] = df2014['ThroughputData.Mean'].apply(lambda x: np.float64(x))\n",
      "df2014['LatencyData.Mean'] = df2014['LatencyData.Mean'].apply(lambda x: np.float64(x)) \n",
      "y = df2014['ThroughputData.Mean'].apply(lambda x: -1 if np.isnan(x) or np.isinf(x) else x)\n",
      "x = df2014['LatencyData.Mean'].apply(lambda x: -1 if np.isnan(x) or np.isinf(x) or x > 10000 else x)"
     ],
     "language": "python",
     "metadata": {},
     "outputs": [],
     "prompt_number": 82
    },
    {
     "cell_type": "code",
     "collapsed": false,
     "input": [
      "count = 0\n",
      "for v in x:\n",
      "    if np.isnan(v) or np.isinf(v):\n",
      "        count += 1\n",
      "for v in y:\n",
      "    if np.isnan(v) or np.isinf(v):\n",
      "        count += 1\n",
      "print count\n",
      "\n",
      "print np.mean(x), np.std(x), np.max(x)"
     ],
     "language": "python",
     "metadata": {},
     "outputs": [
      {
       "output_type": "stream",
       "stream": "stdout",
       "text": [
        "0\n",
        "203.192518932 638.082665159 9997.0\n"
       ]
      }
     ],
     "prompt_number": 83
    },
    {
     "cell_type": "code",
     "collapsed": false,
     "input": [
      "r = [[0,np.max(x)],[0,np.max(y)]]\n",
      "fig, ax = plt.subplots()\n",
      "# ax.set_yscale('log')\n",
      "# ax.set_xscale('log')\n",
      "im = ax.hist2d(x, y, bins=30, range=r, norm=mpl.colors.LogNorm(), cmap=mpl.cm.YlOrRd)\n",
      "fig.colorbar(im[3],ax=ax)\n",
      "\n",
      "plt.title('Mean Delay vs. Mean Throughput of 2014 net-score Tests')\n",
      "plt.xlabel('Mean Delay (ms)')\n",
      "plt.ylabel('Mean Throughput (Mb/s)')\n",
      "plt.show()"
     ],
     "language": "python",
     "metadata": {},
     "outputs": [
      {
       "metadata": {},
       "output_type": "display_data",
       "png": "[encoded data removed]",
       "text": [
        "<matplotlib.figure.Figure at 0x7fe1ef7df750>"
       ]
      }
     ],
     "prompt_number": 89
    },
    {
     "cell_type": "code",
     "collapsed": false,
     "input": [
      "r = [[0,np.max(x)],[0,np.max(y)]]\n",
      "fig, ax = plt.subplots()\n",
      "ax.set_yscale('log')\n",
      "ax.set_xscale('log')\n",
      "im = ax.hist2d(df2014['LatencyData.Mean'], df2014['ThroughputData.Med'], bins=30, range=r, norm=mpl.colors.LogNorm(), cmap=mpl.cm.YlOrRd)\n",
      "fig.colorbar(im[3],ax=ax)\n",
      "\n",
      "plt.title('Mean Delay vs. Mean Throughput of 2014 net-score Tests')\n",
      "plt.xlabel('Mean Delay (ms)')\n",
      "plt.ylabel('Mean Throughput (Mb/s)')\n",
      "plt.show()"
     ],
     "language": "python",
     "metadata": {},
     "outputs": [
      {
       "ename": "TypeError",
       "evalue": "Cannot cast array data from dtype('O') to dtype('float64') according to the rule 'safe'",
       "output_type": "pyerr",
       "traceback": [
        "\u001b[1;31m---------------------------------------------------------------------------\u001b[0m\n\u001b[1;31mTypeError\u001b[0m                                 Traceback (most recent call last)",
        "\u001b[1;32m<ipython-input-90-c1be74319132>\u001b[0m in \u001b[0;36m<module>\u001b[1;34m()\u001b[0m\n\u001b[0;32m      3\u001b[0m \u001b[0max\u001b[0m\u001b[1;33m.\u001b[0m\u001b[0mset_yscale\u001b[0m\u001b[1;33m(\u001b[0m\u001b[1;34m'log'\u001b[0m\u001b[1;33m)\u001b[0m\u001b[1;33m\u001b[0m\u001b[0m\n\u001b[0;32m      4\u001b[0m \u001b[0max\u001b[0m\u001b[1;33m.\u001b[0m\u001b[0mset_xscale\u001b[0m\u001b[1;33m(\u001b[0m\u001b[1;34m'log'\u001b[0m\u001b[1;33m)\u001b[0m\u001b[1;33m\u001b[0m\u001b[0m\n\u001b[1;32m----> 5\u001b[1;33m \u001b[0mim\u001b[0m \u001b[1;33m=\u001b[0m \u001b[0max\u001b[0m\u001b[1;33m.\u001b[0m\u001b[0mhist2d\u001b[0m\u001b[1;33m(\u001b[0m\u001b[0mdf2014\u001b[0m\u001b[1;33m[\u001b[0m\u001b[1;34m'LatencyData.Mean'\u001b[0m\u001b[1;33m]\u001b[0m\u001b[1;33m,\u001b[0m \u001b[0mdf2014\u001b[0m\u001b[1;33m[\u001b[0m\u001b[1;34m'ThroughputData.Med'\u001b[0m\u001b[1;33m]\u001b[0m\u001b[1;33m,\u001b[0m \u001b[0mbins\u001b[0m\u001b[1;33m=\u001b[0m\u001b[1;36m30\u001b[0m\u001b[1;33m,\u001b[0m \u001b[0mrange\u001b[0m\u001b[1;33m=\u001b[0m\u001b[0mr\u001b[0m\u001b[1;33m,\u001b[0m \u001b[0mnorm\u001b[0m\u001b[1;33m=\u001b[0m\u001b[0mmpl\u001b[0m\u001b[1;33m.\u001b[0m\u001b[0mcolors\u001b[0m\u001b[1;33m.\u001b[0m\u001b[0mLogNorm\u001b[0m\u001b[1;33m(\u001b[0m\u001b[1;33m)\u001b[0m\u001b[1;33m,\u001b[0m \u001b[0mcmap\u001b[0m\u001b[1;33m=\u001b[0m\u001b[0mmpl\u001b[0m\u001b[1;33m.\u001b[0m\u001b[0mcm\u001b[0m\u001b[1;33m.\u001b[0m\u001b[0mYlOrRd\u001b[0m\u001b[1;33m)\u001b[0m\u001b[1;33m\u001b[0m\u001b[0m\n\u001b[0m\u001b[0;32m      6\u001b[0m \u001b[0mfig\u001b[0m\u001b[1;33m.\u001b[0m\u001b[0mcolorbar\u001b[0m\u001b[1;33m(\u001b[0m\u001b[0mim\u001b[0m\u001b[1;33m[\u001b[0m\u001b[1;36m3\u001b[0m\u001b[1;33m]\u001b[0m\u001b[1;33m,\u001b[0m\u001b[0max\u001b[0m\u001b[1;33m=\u001b[0m\u001b[0max\u001b[0m\u001b[1;33m)\u001b[0m\u001b[1;33m\u001b[0m\u001b[0m\n\u001b[0;32m      7\u001b[0m \u001b[1;33m\u001b[0m\u001b[0m\n",
        "\u001b[1;32m/playpen/anaconda/lib/python2.7/site-packages/matplotlib/axes/_axes.pyc\u001b[0m in \u001b[0;36mhist2d\u001b[1;34m(self, x, y, bins, range, normed, weights, cmin, cmax, **kwargs)\u001b[0m\n\u001b[0;32m   5953\u001b[0m         \u001b[0mrange\u001b[0m \u001b[1;33m=\u001b[0m \u001b[0m__builtins__\u001b[0m\u001b[1;33m[\u001b[0m\u001b[1;34m\"range\"\u001b[0m\u001b[1;33m]\u001b[0m\u001b[1;33m\u001b[0m\u001b[0m\n\u001b[0;32m   5954\u001b[0m         h, xedges, yedges = np.histogram2d(x, y, bins=bins, range=bin_range,\n\u001b[1;32m-> 5955\u001b[1;33m                                            normed=normed, weights=weights)\n\u001b[0m\u001b[0;32m   5956\u001b[0m \u001b[1;33m\u001b[0m\u001b[0m\n\u001b[0;32m   5957\u001b[0m         \u001b[1;32mif\u001b[0m \u001b[0mcmin\u001b[0m \u001b[1;32mis\u001b[0m \u001b[1;32mnot\u001b[0m \u001b[0mNone\u001b[0m\u001b[1;33m:\u001b[0m\u001b[1;33m\u001b[0m\u001b[0m\n",
        "\u001b[1;32m/playpen/anaconda/lib/python2.7/site-packages/numpy/lib/twodim_base.pyc\u001b[0m in \u001b[0;36mhistogram2d\u001b[1;34m(x, y, bins, range, normed, weights)\u001b[0m\n\u001b[0;32m    708\u001b[0m         \u001b[0mxedges\u001b[0m \u001b[1;33m=\u001b[0m \u001b[0myedges\u001b[0m \u001b[1;33m=\u001b[0m \u001b[0masarray\u001b[0m\u001b[1;33m(\u001b[0m\u001b[0mbins\u001b[0m\u001b[1;33m,\u001b[0m \u001b[0mfloat\u001b[0m\u001b[1;33m)\u001b[0m\u001b[1;33m\u001b[0m\u001b[0m\n\u001b[0;32m    709\u001b[0m         \u001b[0mbins\u001b[0m \u001b[1;33m=\u001b[0m \u001b[1;33m[\u001b[0m\u001b[0mxedges\u001b[0m\u001b[1;33m,\u001b[0m \u001b[0myedges\u001b[0m\u001b[1;33m]\u001b[0m\u001b[1;33m\u001b[0m\u001b[0m\n\u001b[1;32m--> 710\u001b[1;33m     \u001b[0mhist\u001b[0m\u001b[1;33m,\u001b[0m \u001b[0medges\u001b[0m \u001b[1;33m=\u001b[0m \u001b[0mhistogramdd\u001b[0m\u001b[1;33m(\u001b[0m\u001b[1;33m[\u001b[0m\u001b[0mx\u001b[0m\u001b[1;33m,\u001b[0m \u001b[0my\u001b[0m\u001b[1;33m]\u001b[0m\u001b[1;33m,\u001b[0m \u001b[0mbins\u001b[0m\u001b[1;33m,\u001b[0m \u001b[0mrange\u001b[0m\u001b[1;33m,\u001b[0m \u001b[0mnormed\u001b[0m\u001b[1;33m,\u001b[0m \u001b[0mweights\u001b[0m\u001b[1;33m)\u001b[0m\u001b[1;33m\u001b[0m\u001b[0m\n\u001b[0m\u001b[0;32m    711\u001b[0m     \u001b[1;32mreturn\u001b[0m \u001b[0mhist\u001b[0m\u001b[1;33m,\u001b[0m \u001b[0medges\u001b[0m\u001b[1;33m[\u001b[0m\u001b[1;36m0\u001b[0m\u001b[1;33m]\u001b[0m\u001b[1;33m,\u001b[0m \u001b[0medges\u001b[0m\u001b[1;33m[\u001b[0m\u001b[1;36m1\u001b[0m\u001b[1;33m]\u001b[0m\u001b[1;33m\u001b[0m\u001b[0m\n\u001b[0;32m    712\u001b[0m \u001b[1;33m\u001b[0m\u001b[0m\n",
        "\u001b[1;32m/playpen/anaconda/lib/python2.7/site-packages/numpy/lib/function_base.pyc\u001b[0m in \u001b[0;36mhistogramdd\u001b[1;34m(sample, bins, range, normed, weights)\u001b[0m\n\u001b[0;32m    370\u001b[0m     \u001b[0mNcount\u001b[0m \u001b[1;33m=\u001b[0m \u001b[1;33m{\u001b[0m\u001b[1;33m}\u001b[0m\u001b[1;33m\u001b[0m\u001b[0m\n\u001b[0;32m    371\u001b[0m     \u001b[1;32mfor\u001b[0m \u001b[0mi\u001b[0m \u001b[1;32min\u001b[0m \u001b[0marange\u001b[0m\u001b[1;33m(\u001b[0m\u001b[0mD\u001b[0m\u001b[1;33m)\u001b[0m\u001b[1;33m:\u001b[0m\u001b[1;33m\u001b[0m\u001b[0m\n\u001b[1;32m--> 372\u001b[1;33m         \u001b[0mNcount\u001b[0m\u001b[1;33m[\u001b[0m\u001b[0mi\u001b[0m\u001b[1;33m]\u001b[0m \u001b[1;33m=\u001b[0m \u001b[0mdigitize\u001b[0m\u001b[1;33m(\u001b[0m\u001b[0msample\u001b[0m\u001b[1;33m[\u001b[0m\u001b[1;33m:\u001b[0m\u001b[1;33m,\u001b[0m \u001b[0mi\u001b[0m\u001b[1;33m]\u001b[0m\u001b[1;33m,\u001b[0m \u001b[0medges\u001b[0m\u001b[1;33m[\u001b[0m\u001b[0mi\u001b[0m\u001b[1;33m]\u001b[0m\u001b[1;33m)\u001b[0m\u001b[1;33m\u001b[0m\u001b[0m\n\u001b[0m\u001b[0;32m    373\u001b[0m \u001b[1;33m\u001b[0m\u001b[0m\n\u001b[0;32m    374\u001b[0m     \u001b[1;31m# Using digitize, values that fall on an edge are put in the right bin.\u001b[0m\u001b[1;33m\u001b[0m\u001b[1;33m\u001b[0m\u001b[0m\n",
        "\u001b[1;31mTypeError\u001b[0m: Cannot cast array data from dtype('O') to dtype('float64') according to the rule 'safe'"
       ]
      },
      {
       "metadata": {},
       "output_type": "display_data",
       "png": "[encoded data removed]",
       "text": [
        "<matplotlib.figure.Figure at 0x7fe1ebaa4e50>"
       ]
      }
     ],
     "prompt_number": 90
    },
    {
     "cell_type": "code",
     "collapsed": false,
     "input": [
      "buffRatio = df2013[np.isfinite(df2013['YouTubeStats.BuffRatio'])]"
     ],
     "language": "python",
     "metadata": {},
     "outputs": [],
     "prompt_number": 85
    },
    {
     "cell_type": "code",
     "collapsed": false,
     "input": [
      "buffRatio.head()"
     ],
     "language": "python",
     "metadata": {},
     "outputs": [
      {
       "html": [
        "<div style=\"max-height:1000px;max-width:1500px;overflow:auto;\">\n",
        "<table border=\"1\" class=\"dataframe\">\n",
        "  <thead>\n",
        "    <tr style=\"text-align: right;\">\n",
        "      <th></th>\n",
        "      <th>Key</th>\n",
        "      <th>RemoteAddr</th>\n",
        "      <th>GetTime</th>\n",
        "      <th>TrackData.ASN</th>\n",
        "      <th>TrackData.ASNAloc</th>\n",
        "      <th>TrackData.ASNBGP</th>\n",
        "      <th>TrackData.ASNCC</th>\n",
        "      <th>TrackData.ASNDsc</th>\n",
        "      <th>TrackData.ASNReg</th>\n",
        "      <th>TrackData.DevKey</th>\n",
        "      <th>...</th>\n",
        "      <th>City</th>\n",
        "      <th>Latitude</th>\n",
        "      <th>Longitude</th>\n",
        "      <th>DevKey</th>\n",
        "      <th>TestForm</th>\n",
        "      <th>AppVersionID</th>\n",
        "      <th>RequestID</th>\n",
        "      <th>TestError</th>\n",
        "      <th>TestDataKey</th>\n",
        "      <th>Unnamed: 16</th>\n",
        "    </tr>\n",
        "  </thead>\n",
        "  <tbody>\n",
        "    <tr>\n",
        "      <th>384</th>\n",
        "      <td>   1371411809_97.77.98.130</td>\n",
        "      <td>   97.77.98.130</td>\n",
        "      <td> 1371411809</td>\n",
        "      <td> 11427</td>\n",
        "      <td> 1189468800</td>\n",
        "      <td>    97.77.0.0/16</td>\n",
        "      <td> US</td>\n",
        "      <td>       SCRR-11427 - Time Warner Cable Internet LLC</td>\n",
        "      <td>    arin</td>\n",
        "      <td> ns</td>\n",
        "      <td>...</td>\n",
        "      <td>         austin</td>\n",
        "      <td> 30.267153</td>\n",
        "      <td> -97.743061</td>\n",
        "      <td> ns</td>\n",
        "      <td> Flock</td>\n",
        "      <td> 0-1-0.367552768991643092</td>\n",
        "      <td> 51be155600ff014b71b2e2f1260001737e6e65742d7363...</td>\n",
        "      <td> NaN</td>\n",
        "      <td>   1371411809_97.77.98.130</td>\n",
        "      <td> Mozilla/5.0 (Windows NT 6.1; WOW64) AppleWebKi...</td>\n",
        "    </tr>\n",
        "    <tr>\n",
        "      <th>441</th>\n",
        "      <td>  1370297015_71.70.141.123</td>\n",
        "      <td>  71.70.141.123</td>\n",
        "      <td> 1370297015</td>\n",
        "      <td> 11426</td>\n",
        "      <td> 1116201600</td>\n",
        "      <td>  71.70.128.0/17</td>\n",
        "      <td> US</td>\n",
        "      <td>       SCRR-11426 - Time Warner Cable Internet LLC</td>\n",
        "      <td>    arin</td>\n",
        "      <td> ns</td>\n",
        "      <td>...</td>\n",
        "      <td>    chapel hill</td>\n",
        "      <td> 35.913200</td>\n",
        "      <td> -79.055845</td>\n",
        "      <td> ns</td>\n",
        "      <td> Flock</td>\n",
        "      <td> 0-1-0.367552768991643092</td>\n",
        "      <td> 51ad129900ff0c70337ae684580001737e6e65742d7363...</td>\n",
        "      <td> NaN</td>\n",
        "      <td>  1370297015_71.70.141.123</td>\n",
        "      <td> Mozilla/5.0 (Windows NT 6.2; WOW64) AppleWebKi...</td>\n",
        "    </tr>\n",
        "    <tr>\n",
        "      <th>841</th>\n",
        "      <td> 1359384649_132.227.127.78</td>\n",
        "      <td> 132.227.127.78</td>\n",
        "      <td> 1359384649</td>\n",
        "      <td>  1307</td>\n",
        "      <td>  606096000</td>\n",
        "      <td>  132.227.0.0/16</td>\n",
        "      <td> FR</td>\n",
        "      <td>                                FR-U-JUSSIEU-PARIS</td>\n",
        "      <td> ripencc</td>\n",
        "      <td> ns</td>\n",
        "      <td>...</td>\n",
        "      <td>          paris</td>\n",
        "      <td> 48.856614</td>\n",
        "      <td>   2.352222</td>\n",
        "      <td> ns</td>\n",
        "      <td> Flock</td>\n",
        "      <td> 0-1-0.362498585984929750</td>\n",
        "      <td> 5106903c00ff023e16674487590001737e6e65742d7363...</td>\n",
        "      <td> NaN</td>\n",
        "      <td> 1359384649_132.227.127.78</td>\n",
        "      <td> Mozilla/5.0 (Macintosh; Intel Mac OS X 10_8_2)...</td>\n",
        "    </tr>\n",
        "    <tr>\n",
        "      <th>939</th>\n",
        "      <td> 1357994506_216.49.181.254</td>\n",
        "      <td> 216.49.181.254</td>\n",
        "      <td> 1357994506</td>\n",
        "      <td> 19648</td>\n",
        "      <td> 1093910400</td>\n",
        "      <td> 216.49.176.0/21</td>\n",
        "      <td> US</td>\n",
        "      <td> LDSCHURCH1 - THE CHURCH OF JESUS CHRIST OF LAT...</td>\n",
        "      <td>    arin</td>\n",
        "      <td> ns</td>\n",
        "      <td>...</td>\n",
        "      <td> salt lake city</td>\n",
        "      <td> 40.760779</td>\n",
        "      <td>-111.891047</td>\n",
        "      <td> ns</td>\n",
        "      <td> Flock</td>\n",
        "      <td> 0-1-0.362498585984929750</td>\n",
        "      <td> 50f1518600ff0c5b3cc14f0dd30001737e6e65742d7363...</td>\n",
        "      <td> NaN</td>\n",
        "      <td> 1357994506_216.49.181.254</td>\n",
        "      <td> Mozilla/5.0 (Windows NT 6.1; WOW64) AppleWebKi...</td>\n",
        "    </tr>\n",
        "    <tr>\n",
        "      <th>975</th>\n",
        "      <td>   1366478053_98.27.48.158</td>\n",
        "      <td>   98.27.48.158</td>\n",
        "      <td> 1366478053</td>\n",
        "      <td> 11426</td>\n",
        "      <td> 1193961600</td>\n",
        "      <td>    98.27.0.0/18</td>\n",
        "      <td> US</td>\n",
        "      <td>               SCRR-11426 - Road Runner HoldCo LLC</td>\n",
        "      <td>    arin</td>\n",
        "      <td> ns</td>\n",
        "      <td>...</td>\n",
        "      <td>           apex</td>\n",
        "      <td> 35.732652</td>\n",
        "      <td> -78.850286</td>\n",
        "      <td> ns</td>\n",
        "      <td> Flock</td>\n",
        "      <td> 0-1-0.366788704064654933</td>\n",
        "      <td> 5172ccd000ff05abc9369f53e50001737e6e65742d7363...</td>\n",
        "      <td> NaN</td>\n",
        "      <td>   1366478053_98.27.48.158</td>\n",
        "      <td> Mozilla/5.0 (Windows NT 6.0) AppleWebKit/537.3...</td>\n",
        "    </tr>\n",
        "  </tbody>\n",
        "</table>\n",
        "<p>5 rows \u00d7 117 columns</p>\n",
        "</div>"
       ],
       "metadata": {},
       "output_type": "pyout",
       "prompt_number": 86,
       "text": [
        "                           Key      RemoteAddr     GetTime  TrackData.ASN  \\\n",
        "384    1371411809_97.77.98.130    97.77.98.130  1371411809          11427   \n",
        "441   1370297015_71.70.141.123   71.70.141.123  1370297015          11426   \n",
        "841  1359384649_132.227.127.78  132.227.127.78  1359384649           1307   \n",
        "939  1357994506_216.49.181.254  216.49.181.254  1357994506          19648   \n",
        "975    1366478053_98.27.48.158    98.27.48.158  1366478053          11426   \n",
        "\n",
        "     TrackData.ASNAloc TrackData.ASNBGP TrackData.ASNCC  \\\n",
        "384         1189468800     97.77.0.0/16              US   \n",
        "441         1116201600   71.70.128.0/17              US   \n",
        "841          606096000   132.227.0.0/16              FR   \n",
        "939         1093910400  216.49.176.0/21              US   \n",
        "975         1193961600     98.27.0.0/18              US   \n",
        "\n",
        "                                      TrackData.ASNDsc TrackData.ASNReg  \\\n",
        "384        SCRR-11427 - Time Warner Cable Internet LLC             arin   \n",
        "441        SCRR-11426 - Time Warner Cable Internet LLC             arin   \n",
        "841                                 FR-U-JUSSIEU-PARIS          ripencc   \n",
        "939  LDSCHURCH1 - THE CHURCH OF JESUS CHRIST OF LAT...             arin   \n",
        "975                SCRR-11426 - Road Runner HoldCo LLC             arin   \n",
        "\n",
        "    TrackData.DevKey       ...                   City   Latitude   Longitude  \\\n",
        "384               ns       ...                 austin  30.267153  -97.743061   \n",
        "441               ns       ...            chapel hill  35.913200  -79.055845   \n",
        "841               ns       ...                  paris  48.856614    2.352222   \n",
        "939               ns       ...         salt lake city  40.760779 -111.891047   \n",
        "975               ns       ...                   apex  35.732652  -78.850286   \n",
        "\n",
        "    DevKey TestForm              AppVersionID  \\\n",
        "384     ns    Flock  0-1-0.367552768991643092   \n",
        "441     ns    Flock  0-1-0.367552768991643092   \n",
        "841     ns    Flock  0-1-0.362498585984929750   \n",
        "939     ns    Flock  0-1-0.362498585984929750   \n",
        "975     ns    Flock  0-1-0.366788704064654933   \n",
        "\n",
        "                                             RequestID TestError  \\\n",
        "384  51be155600ff014b71b2e2f1260001737e6e65742d7363...       NaN   \n",
        "441  51ad129900ff0c70337ae684580001737e6e65742d7363...       NaN   \n",
        "841  5106903c00ff023e16674487590001737e6e65742d7363...       NaN   \n",
        "939  50f1518600ff0c5b3cc14f0dd30001737e6e65742d7363...       NaN   \n",
        "975  5172ccd000ff05abc9369f53e50001737e6e65742d7363...       NaN   \n",
        "\n",
        "                   TestDataKey  \\\n",
        "384    1371411809_97.77.98.130   \n",
        "441   1370297015_71.70.141.123   \n",
        "841  1359384649_132.227.127.78   \n",
        "939  1357994506_216.49.181.254   \n",
        "975    1366478053_98.27.48.158   \n",
        "\n",
        "                                           Unnamed: 16  \n",
        "384  Mozilla/5.0 (Windows NT 6.1; WOW64) AppleWebKi...  \n",
        "441  Mozilla/5.0 (Windows NT 6.2; WOW64) AppleWebKi...  \n",
        "841  Mozilla/5.0 (Macintosh; Intel Mac OS X 10_8_2)...  \n",
        "939  Mozilla/5.0 (Windows NT 6.1; WOW64) AppleWebKi...  \n",
        "975  Mozilla/5.0 (Windows NT 6.0) AppleWebKit/537.3...  \n",
        "\n",
        "[5 rows x 117 columns]"
       ]
      }
     ],
     "prompt_number": 86
    },
    {
     "cell_type": "code",
     "collapsed": false,
     "input": [],
     "language": "python",
     "metadata": {},
     "outputs": [],
     "prompt_number": 86
    },
    {
     "cell_type": "code",
     "collapsed": false,
     "input": [],
     "language": "python",
     "metadata": {},
     "outputs": [],
     "prompt_number": 86
    }
   ],
   "metadata": {}
  }
 ]
}